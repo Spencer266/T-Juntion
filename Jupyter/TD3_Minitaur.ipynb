{
  "cells": [
    {
      "cell_type": "markdown",
      "metadata": {
        "id": "-hZLBaLe8yYS"
      },
      "source": [
        "# Install dependencies"
      ]
    },
    {
      "cell_type": "code",
      "execution_count": null,
      "metadata": {
        "colab": {
          "base_uri": "https://localhost:8080/"
        },
        "id": "EiQHgeX68miV",
        "outputId": "fbb6d5d4-a4d4-4f57-8b94-55eb8764ffcc"
      },
      "outputs": [
        {
          "output_type": "stream",
          "name": "stdout",
          "text": [
            "Looking in indexes: https://pypi.org/simple, https://us-python.pkg.dev/colab-wheels/public/simple/\n",
            "Collecting pybullet\n",
            "  Downloading pybullet-3.2.5-cp37-cp37m-manylinux_2_5_x86_64.manylinux1_x86_64.whl (91.7 MB)\n",
            "\u001b[K     |████████████████████████████████| 91.7 MB 24 kB/s \n",
            "\u001b[?25hInstalling collected packages: pybullet\n",
            "Successfully installed pybullet-3.2.5\n",
            "Looking in indexes: https://pypi.org/simple, https://us-python.pkg.dev/colab-wheels/public/simple/\n",
            "Collecting tf-agents[reverb]\n",
            "  Downloading tf_agents-0.13.0-py3-none-any.whl (1.3 MB)\n",
            "\u001b[K     |████████████████████████████████| 1.3 MB 9.8 MB/s \n",
            "\u001b[?25hRequirement already satisfied: cloudpickle>=1.3 in /usr/local/lib/python3.7/dist-packages (from tf-agents[reverb]) (1.3.0)\n",
            "Requirement already satisfied: absl-py>=0.6.1 in /usr/local/lib/python3.7/dist-packages (from tf-agents[reverb]) (1.1.0)\n",
            "Requirement already satisfied: protobuf>=3.11.3 in /usr/local/lib/python3.7/dist-packages (from tf-agents[reverb]) (3.17.3)\n",
            "Requirement already satisfied: typing-extensions>=3.7.4.3 in /usr/local/lib/python3.7/dist-packages (from tf-agents[reverb]) (4.1.1)\n",
            "Requirement already satisfied: tensorflow-probability>=0.16.0 in /usr/local/lib/python3.7/dist-packages (from tf-agents[reverb]) (0.16.0)\n",
            "Requirement already satisfied: gym<=0.23.0,>=0.17.0 in /usr/local/lib/python3.7/dist-packages (from tf-agents[reverb]) (0.17.3)\n",
            "Requirement already satisfied: gin-config>=0.4.0 in /usr/local/lib/python3.7/dist-packages (from tf-agents[reverb]) (0.5.0)\n",
            "Requirement already satisfied: wrapt>=1.11.1 in /usr/local/lib/python3.7/dist-packages (from tf-agents[reverb]) (1.14.1)\n",
            "Collecting pygame==2.1.0\n",
            "  Downloading pygame-2.1.0-cp37-cp37m-manylinux_2_17_x86_64.manylinux2014_x86_64.whl (18.3 MB)\n",
            "\u001b[K     |████████████████████████████████| 18.3 MB 128 kB/s \n",
            "\u001b[?25hRequirement already satisfied: numpy>=1.13.3 in /usr/local/lib/python3.7/dist-packages (from tf-agents[reverb]) (1.21.6)\n",
            "Requirement already satisfied: pillow in /usr/local/lib/python3.7/dist-packages (from tf-agents[reverb]) (7.1.2)\n",
            "Requirement already satisfied: six>=1.10.0 in /usr/local/lib/python3.7/dist-packages (from tf-agents[reverb]) (1.15.0)\n",
            "Collecting dm-reverb~=0.8.0\n",
            "  Downloading dm_reverb-0.8.0-cp37-cp37m-manylinux2014_x86_64.whl (6.5 MB)\n",
            "\u001b[K     |████████████████████████████████| 6.5 MB 27.8 MB/s \n",
            "\u001b[?25hCollecting tensorflow~=2.9.0\n",
            "  Downloading tensorflow-2.9.1-cp37-cp37m-manylinux_2_17_x86_64.manylinux2014_x86_64.whl (511.7 MB)\n",
            "\u001b[K     |████████████████████████████████| 511.7 MB 6.1 kB/s \n",
            "\u001b[?25hCollecting rlds\n",
            "  Downloading rlds-0.1.4-py3-none-manylinux2010_x86_64.whl (37 kB)\n",
            "Requirement already satisfied: portpicker in /usr/local/lib/python3.7/dist-packages (from dm-reverb~=0.8.0->tf-agents[reverb]) (1.3.9)\n",
            "Requirement already satisfied: dm-tree in /usr/local/lib/python3.7/dist-packages (from dm-reverb~=0.8.0->tf-agents[reverb]) (0.1.7)\n",
            "Requirement already satisfied: pyglet<=1.5.0,>=1.4.0 in /usr/local/lib/python3.7/dist-packages (from gym<=0.23.0,>=0.17.0->tf-agents[reverb]) (1.5.0)\n",
            "Requirement already satisfied: scipy in /usr/local/lib/python3.7/dist-packages (from gym<=0.23.0,>=0.17.0->tf-agents[reverb]) (1.4.1)\n",
            "Requirement already satisfied: future in /usr/local/lib/python3.7/dist-packages (from pyglet<=1.5.0,>=1.4.0->gym<=0.23.0,>=0.17.0->tf-agents[reverb]) (0.16.0)\n",
            "Requirement already satisfied: grpcio<2.0,>=1.24.3 in /usr/local/lib/python3.7/dist-packages (from tensorflow~=2.9.0->tf-agents[reverb]) (1.46.3)\n",
            "Collecting tensorboard<2.10,>=2.9\n",
            "  Downloading tensorboard-2.9.1-py3-none-any.whl (5.8 MB)\n",
            "\u001b[K     |████████████████████████████████| 5.8 MB 49.3 MB/s \n",
            "\u001b[?25hRequirement already satisfied: astunparse>=1.6.0 in /usr/local/lib/python3.7/dist-packages (from tensorflow~=2.9.0->tf-agents[reverb]) (1.6.3)\n",
            "Requirement already satisfied: google-pasta>=0.1.1 in /usr/local/lib/python3.7/dist-packages (from tensorflow~=2.9.0->tf-agents[reverb]) (0.2.0)\n",
            "Requirement already satisfied: termcolor>=1.1.0 in /usr/local/lib/python3.7/dist-packages (from tensorflow~=2.9.0->tf-agents[reverb]) (1.1.0)\n",
            "Requirement already satisfied: tensorflow-io-gcs-filesystem>=0.23.1 in /usr/local/lib/python3.7/dist-packages (from tensorflow~=2.9.0->tf-agents[reverb]) (0.26.0)\n",
            "Collecting keras<2.10.0,>=2.9.0rc0\n",
            "  Downloading keras-2.9.0-py2.py3-none-any.whl (1.6 MB)\n",
            "\u001b[K     |████████████████████████████████| 1.6 MB 51.4 MB/s \n",
            "\u001b[?25hCollecting gast<=0.4.0,>=0.2.1\n",
            "  Downloading gast-0.4.0-py3-none-any.whl (9.8 kB)\n",
            "Requirement already satisfied: opt-einsum>=2.3.2 in /usr/local/lib/python3.7/dist-packages (from tensorflow~=2.9.0->tf-agents[reverb]) (3.3.0)\n",
            "Requirement already satisfied: setuptools in /usr/local/lib/python3.7/dist-packages (from tensorflow~=2.9.0->tf-agents[reverb]) (57.4.0)\n",
            "Collecting tensorflow-estimator<2.10.0,>=2.9.0rc0\n",
            "  Downloading tensorflow_estimator-2.9.0-py2.py3-none-any.whl (438 kB)\n",
            "\u001b[K     |████████████████████████████████| 438 kB 66.7 MB/s \n",
            "\u001b[?25hRequirement already satisfied: keras-preprocessing>=1.1.1 in /usr/local/lib/python3.7/dist-packages (from tensorflow~=2.9.0->tf-agents[reverb]) (1.1.2)\n",
            "Collecting flatbuffers<2,>=1.12\n",
            "  Downloading flatbuffers-1.12-py2.py3-none-any.whl (15 kB)\n",
            "Requirement already satisfied: packaging in /usr/local/lib/python3.7/dist-packages (from tensorflow~=2.9.0->tf-agents[reverb]) (21.3)\n",
            "Requirement already satisfied: libclang>=13.0.0 in /usr/local/lib/python3.7/dist-packages (from tensorflow~=2.9.0->tf-agents[reverb]) (14.0.1)\n",
            "Requirement already satisfied: h5py>=2.9.0 in /usr/local/lib/python3.7/dist-packages (from tensorflow~=2.9.0->tf-agents[reverb]) (3.1.0)\n",
            "Requirement already satisfied: wheel<1.0,>=0.23.0 in /usr/local/lib/python3.7/dist-packages (from astunparse>=1.6.0->tensorflow~=2.9.0->tf-agents[reverb]) (0.37.1)\n",
            "Requirement already satisfied: cached-property in /usr/local/lib/python3.7/dist-packages (from h5py>=2.9.0->tensorflow~=2.9.0->tf-agents[reverb]) (1.5.2)\n",
            "Requirement already satisfied: markdown>=2.6.8 in /usr/local/lib/python3.7/dist-packages (from tensorboard<2.10,>=2.9->tensorflow~=2.9.0->tf-agents[reverb]) (3.3.7)\n",
            "Requirement already satisfied: google-auth<3,>=1.6.3 in /usr/local/lib/python3.7/dist-packages (from tensorboard<2.10,>=2.9->tensorflow~=2.9.0->tf-agents[reverb]) (1.35.0)\n",
            "Requirement already satisfied: werkzeug>=1.0.1 in /usr/local/lib/python3.7/dist-packages (from tensorboard<2.10,>=2.9->tensorflow~=2.9.0->tf-agents[reverb]) (1.0.1)\n",
            "Requirement already satisfied: requests<3,>=2.21.0 in /usr/local/lib/python3.7/dist-packages (from tensorboard<2.10,>=2.9->tensorflow~=2.9.0->tf-agents[reverb]) (2.23.0)\n",
            "Requirement already satisfied: tensorboard-data-server<0.7.0,>=0.6.0 in /usr/local/lib/python3.7/dist-packages (from tensorboard<2.10,>=2.9->tensorflow~=2.9.0->tf-agents[reverb]) (0.6.1)\n",
            "Requirement already satisfied: google-auth-oauthlib<0.5,>=0.4.1 in /usr/local/lib/python3.7/dist-packages (from tensorboard<2.10,>=2.9->tensorflow~=2.9.0->tf-agents[reverb]) (0.4.6)\n",
            "Requirement already satisfied: tensorboard-plugin-wit>=1.6.0 in /usr/local/lib/python3.7/dist-packages (from tensorboard<2.10,>=2.9->tensorflow~=2.9.0->tf-agents[reverb]) (1.8.1)\n",
            "Requirement already satisfied: cachetools<5.0,>=2.0.0 in /usr/local/lib/python3.7/dist-packages (from google-auth<3,>=1.6.3->tensorboard<2.10,>=2.9->tensorflow~=2.9.0->tf-agents[reverb]) (4.2.4)\n",
            "Requirement already satisfied: rsa<5,>=3.1.4 in /usr/local/lib/python3.7/dist-packages (from google-auth<3,>=1.6.3->tensorboard<2.10,>=2.9->tensorflow~=2.9.0->tf-agents[reverb]) (4.8)\n",
            "Requirement already satisfied: pyasn1-modules>=0.2.1 in /usr/local/lib/python3.7/dist-packages (from google-auth<3,>=1.6.3->tensorboard<2.10,>=2.9->tensorflow~=2.9.0->tf-agents[reverb]) (0.2.8)\n",
            "Requirement already satisfied: requests-oauthlib>=0.7.0 in /usr/local/lib/python3.7/dist-packages (from google-auth-oauthlib<0.5,>=0.4.1->tensorboard<2.10,>=2.9->tensorflow~=2.9.0->tf-agents[reverb]) (1.3.1)\n",
            "Requirement already satisfied: importlib-metadata>=4.4 in /usr/local/lib/python3.7/dist-packages (from markdown>=2.6.8->tensorboard<2.10,>=2.9->tensorflow~=2.9.0->tf-agents[reverb]) (4.11.4)\n",
            "Requirement already satisfied: zipp>=0.5 in /usr/local/lib/python3.7/dist-packages (from importlib-metadata>=4.4->markdown>=2.6.8->tensorboard<2.10,>=2.9->tensorflow~=2.9.0->tf-agents[reverb]) (3.8.0)\n",
            "Requirement already satisfied: pyasn1<0.5.0,>=0.4.6 in /usr/local/lib/python3.7/dist-packages (from pyasn1-modules>=0.2.1->google-auth<3,>=1.6.3->tensorboard<2.10,>=2.9->tensorflow~=2.9.0->tf-agents[reverb]) (0.4.8)\n",
            "Requirement already satisfied: certifi>=2017.4.17 in /usr/local/lib/python3.7/dist-packages (from requests<3,>=2.21.0->tensorboard<2.10,>=2.9->tensorflow~=2.9.0->tf-agents[reverb]) (2022.6.15)\n",
            "Requirement already satisfied: urllib3!=1.25.0,!=1.25.1,<1.26,>=1.21.1 in /usr/local/lib/python3.7/dist-packages (from requests<3,>=2.21.0->tensorboard<2.10,>=2.9->tensorflow~=2.9.0->tf-agents[reverb]) (1.24.3)\n",
            "Requirement already satisfied: idna<3,>=2.5 in /usr/local/lib/python3.7/dist-packages (from requests<3,>=2.21.0->tensorboard<2.10,>=2.9->tensorflow~=2.9.0->tf-agents[reverb]) (2.10)\n",
            "Requirement already satisfied: chardet<4,>=3.0.2 in /usr/local/lib/python3.7/dist-packages (from requests<3,>=2.21.0->tensorboard<2.10,>=2.9->tensorflow~=2.9.0->tf-agents[reverb]) (3.0.4)\n",
            "Requirement already satisfied: oauthlib>=3.0.0 in /usr/local/lib/python3.7/dist-packages (from requests-oauthlib>=0.7.0->google-auth-oauthlib<0.5,>=0.4.1->tensorboard<2.10,>=2.9->tensorflow~=2.9.0->tf-agents[reverb]) (3.2.0)\n",
            "Requirement already satisfied: decorator in /usr/local/lib/python3.7/dist-packages (from tensorflow-probability>=0.16.0->tf-agents[reverb]) (4.4.2)\n",
            "Requirement already satisfied: pyparsing!=3.0.5,>=2.0.2 in /usr/local/lib/python3.7/dist-packages (from packaging->tensorflow~=2.9.0->tf-agents[reverb]) (3.0.9)\n",
            "Installing collected packages: gast, tensorflow-estimator, tensorboard, pygame, keras, flatbuffers, tf-agents, tensorflow, rlds, dm-reverb\n",
            "  Attempting uninstall: gast\n",
            "    Found existing installation: gast 0.5.3\n",
            "    Uninstalling gast-0.5.3:\n",
            "      Successfully uninstalled gast-0.5.3\n",
            "  Attempting uninstall: tensorflow-estimator\n",
            "    Found existing installation: tensorflow-estimator 2.8.0\n",
            "    Uninstalling tensorflow-estimator-2.8.0:\n",
            "      Successfully uninstalled tensorflow-estimator-2.8.0\n",
            "  Attempting uninstall: tensorboard\n",
            "    Found existing installation: tensorboard 2.8.0\n",
            "    Uninstalling tensorboard-2.8.0:\n",
            "      Successfully uninstalled tensorboard-2.8.0\n",
            "  Attempting uninstall: keras\n",
            "    Found existing installation: keras 2.8.0\n",
            "    Uninstalling keras-2.8.0:\n",
            "      Successfully uninstalled keras-2.8.0\n",
            "  Attempting uninstall: flatbuffers\n",
            "    Found existing installation: flatbuffers 2.0\n",
            "    Uninstalling flatbuffers-2.0:\n",
            "      Successfully uninstalled flatbuffers-2.0\n",
            "  Attempting uninstall: tensorflow\n",
            "    Found existing installation: tensorflow 2.8.2+zzzcolab20220527125636\n",
            "    Uninstalling tensorflow-2.8.2+zzzcolab20220527125636:\n",
            "      Successfully uninstalled tensorflow-2.8.2+zzzcolab20220527125636\n",
            "Successfully installed dm-reverb-0.8.0 flatbuffers-1.12 gast-0.4.0 keras-2.9.0 pygame-2.1.0 rlds-0.1.4 tensorboard-2.9.1 tensorflow-2.9.1 tensorflow-estimator-2.9.0 tf-agents-0.13.0\n",
            "Looking in indexes: https://pypi.org/simple, https://us-python.pkg.dev/colab-wheels/public/simple/\n",
            "Collecting gym==0.23.0\n",
            "  Downloading gym-0.23.0.tar.gz (624 kB)\n",
            "\u001b[K     |████████████████████████████████| 624 kB 9.1 MB/s \n",
            "\u001b[?25h  Installing build dependencies ... \u001b[?25l\u001b[?25hdone\n",
            "  Getting requirements to build wheel ... \u001b[?25l\u001b[?25hdone\n",
            "    Preparing wheel metadata ... \u001b[?25l\u001b[?25hdone\n",
            "Requirement already satisfied: numpy>=1.18.0 in /usr/local/lib/python3.7/dist-packages (from gym==0.23.0) (1.21.6)\n",
            "Requirement already satisfied: cloudpickle>=1.2.0 in /usr/local/lib/python3.7/dist-packages (from gym==0.23.0) (1.3.0)\n",
            "Requirement already satisfied: importlib-metadata>=4.10.0 in /usr/local/lib/python3.7/dist-packages (from gym==0.23.0) (4.11.4)\n",
            "Collecting gym-notices>=0.0.4\n",
            "  Downloading gym_notices-0.0.7-py3-none-any.whl (2.7 kB)\n",
            "Requirement already satisfied: zipp>=0.5 in /usr/local/lib/python3.7/dist-packages (from importlib-metadata>=4.10.0->gym==0.23.0) (3.8.0)\n",
            "Requirement already satisfied: typing-extensions>=3.6.4 in /usr/local/lib/python3.7/dist-packages (from importlib-metadata>=4.10.0->gym==0.23.0) (4.1.1)\n",
            "Building wheels for collected packages: gym\n",
            "  Building wheel for gym (PEP 517) ... \u001b[?25l\u001b[?25hdone\n",
            "  Created wheel for gym: filename=gym-0.23.0-py3-none-any.whl size=697663 sha256=c7d8a4f3fda3921da2df4ddb68f87c217dde06a665dae82d2abecb69ccec1425\n",
            "  Stored in directory: /root/.cache/pip/wheels/f0/7e/16/4d727df048fdb96518ec5c02266e55b98bc398837353852a6a\n",
            "Successfully built gym\n",
            "Installing collected packages: gym-notices, gym\n",
            "  Attempting uninstall: gym\n",
            "    Found existing installation: gym 0.17.3\n",
            "    Uninstalling gym-0.17.3:\n",
            "      Successfully uninstalled gym-0.17.3\n",
            "Successfully installed gym-0.23.0 gym-notices-0.0.7\n"
          ]
        }
      ],
      "source": [
        "!pip install -U pybullet\n",
        "!pip install -U tf-agents[reverb]\n",
        "!pip install -U gym==0.23.0"
      ]
    },
    {
      "cell_type": "code",
      "execution_count": null,
      "metadata": {
        "id": "zeaYyMg09AUV",
        "colab": {
          "base_uri": "https://localhost:8080/"
        },
        "outputId": "bb70e7a5-c264-4c2b-9769-0a664ca1b768"
      },
      "outputs": [
        {
          "output_type": "stream",
          "name": "stdout",
          "text": [
            "current_dir=/usr/local/lib/python3.7/dist-packages/pybullet_envs/bullet\n"
          ]
        }
      ],
      "source": [
        "import gym\n",
        "import random\n",
        "import PIL.Image\n",
        "from tf_agents.environments import suite_pybullet\n",
        "import pybullet_envs\n",
        "import pybullet_envs.bullet as bul\n",
        "import numpy as np\n",
        "\n",
        "import torch\n",
        "import torch.nn as nn\n",
        "import torch.nn.functional as F\n",
        "from torch.distributions import Normal\n",
        "from torch.optim import Adam\n",
        "from collections import deque"
      ]
    },
    {
      "cell_type": "markdown",
      "metadata": {
        "id": "_rzWypn8UVjg"
      },
      "source": [
        "# Display Environment"
      ]
    },
    {
      "cell_type": "code",
      "execution_count": null,
      "metadata": {
        "id": "KKhNm5ouUZqH"
      },
      "outputs": [],
      "source": [
        "env_name = \"MinitaurBulletEnv-v0\""
      ]
    },
    {
      "cell_type": "markdown",
      "metadata": {
        "id": "nidTKtStA4aL"
      },
      "source": [
        "# Initialize ReplayBuffer, Actor, Critic Network"
      ]
    },
    {
      "cell_type": "markdown",
      "metadata": {
        "id": "6J1hcIsACa6H"
      },
      "source": [
        "## Replay Buffer"
      ]
    },
    {
      "cell_type": "code",
      "execution_count": null,
      "metadata": {
        "id": "BTrffZjJ9Dmi"
      },
      "outputs": [],
      "source": [
        "class ReplayBuffer:\n",
        "  def __init__(self, capacity):\n",
        "    self.capacity = capacity\n",
        "    self.buffer = deque(maxlen=capacity)\n",
        "\n",
        "  def push(self, state, action, reward, next_state, done):\n",
        "    experience = (state, action, np.array([reward]), next_state, done)\n",
        "    self.buffer.append(experience)\n",
        "\n",
        "  def sample(self, batch_size):\n",
        "    state_batch = []\n",
        "    action_batch = []\n",
        "    reward_batch = []\n",
        "    next_state_batch = []\n",
        "    done_batch = []\n",
        "\n",
        "    batch = random.sample(self.buffer, batch_size)\n",
        "\n",
        "    for experience in batch:\n",
        "      state, action, reward, next_state, done = experience\n",
        "      state_batch.append(state)\n",
        "      action_batch.append(action)\n",
        "      reward_batch.append(reward)\n",
        "      next_state_batch.append(next_state)\n",
        "      done_batch.append(done)\n",
        "\n",
        "    return (state_batch, action_batch, reward_batch, next_state_batch, done_batch)\n",
        "\n",
        "  def __len__(self):\n",
        "    return len(self.buffer)"
      ]
    },
    {
      "cell_type": "markdown",
      "metadata": {
        "id": "ILdp-uOGChVS"
      },
      "source": [
        "## Actor"
      ]
    },
    {
      "cell_type": "code",
      "execution_count": null,
      "metadata": {
        "id": "g_cgmjj5CkXH"
      },
      "outputs": [],
      "source": [
        "class PolicyNetwork(nn.Module):\n",
        "  def __init__(self, state_dim, action_dim):\n",
        "    super(PolicyNetwork, self).__init__()\n",
        "\n",
        "    self.state_dim = state_dim\n",
        "    self.action_dim = action_dim\n",
        "\n",
        "    self.linear1 = nn.Linear(self.state_dim, 512)\n",
        "    self.linear2 = nn.Linear(512, 128)\n",
        "    self.linear3 = nn.Linear(128, self.action_dim)\n",
        "\n",
        "  def forward(self, obs):\n",
        "    x = F.relu(self.linear1(obs))\n",
        "    x = F.relu(self.linear2(x))\n",
        "    x = torch.tanh(self.linear3(x))\n",
        "    return x"
      ]
    },
    {
      "cell_type": "markdown",
      "metadata": {
        "id": "hHlvG7GmCkuT"
      },
      "source": [
        "## Critic"
      ]
    },
    {
      "cell_type": "code",
      "execution_count": null,
      "metadata": {
        "id": "TEapgcYxClL2"
      },
      "outputs": [],
      "source": [
        "class QNetwork(nn.Module):\n",
        "  def __init__(self, state_dim, action_dim):\n",
        "    super(QNetwork, self).__init__()\n",
        "\n",
        "    self.state_dim = state_dim\n",
        "    self.action_dim = action_dim\n",
        "\n",
        "    self.linear1 = nn.Linear(self.state_dim, 1024)\n",
        "    self.linear2 = nn.Linear(1024 + self.action_dim, 512)\n",
        "    self.linear3 = nn.Linear(512, 300)\n",
        "    self.linear4 = nn.Linear(300, 1)\n",
        "\n",
        "  def forward(self, x, a):\n",
        "    x = F.relu(self.linear1(x))\n",
        "    xa_cat = torch.cat([x, a], 1)\n",
        "    xa = F.relu(self.linear2(xa_cat))\n",
        "    xa = F.relu(self.linear3(xa))\n",
        "    qval = self.linear4(xa)\n",
        "\n",
        "    return qval"
      ]
    },
    {
      "cell_type": "markdown",
      "metadata": {
        "id": "PTzQFCuhCoCU"
      },
      "source": [
        "## TD3 Agent"
      ]
    },
    {
      "cell_type": "code",
      "execution_count": null,
      "metadata": {
        "id": "CBvl1Lc0jlF0"
      },
      "outputs": [],
      "source": [
        "from torch.cuda import device\n",
        "class TD3Agent:\n",
        "  def __init__(self, env, gamma, tau, buffer_maxlen, delay_step, noise_std, noise_bound, critic_lr, actor_lr):\n",
        "    self.device = torch.device(\"cuda\" if torch.cuda.is_available() else \"cpu\")\n",
        "\n",
        "    self.env = env\n",
        "    self.state_dim = env.observation_space.shape[0]\n",
        "    self.action_dim = env.action_space.shape[0]\n",
        "\n",
        "    # Hyperparam\n",
        "    self.gamma = gamma          # Discount factor\n",
        "    self.tau = tau\n",
        "    self.noise_std = noise_std\n",
        "    self.noise_bound = noise_bound\n",
        "    self.update_step = 0\n",
        "    self.delay_step = delay_step\n",
        "\n",
        "    # Init actor and critic network\n",
        "    self.critic1 = QNetwork(self.state_dim, self.action_dim).to(self.device)\n",
        "    self.critic2 = QNetwork(self.state_dim, self.action_dim).to(self.device)\n",
        "    self.critic1_target = QNetwork(self.state_dim, self.action_dim).to(self.device)\n",
        "    self.critic2_target = QNetwork(self.state_dim, self.action_dim).to(self.device)\n",
        "\n",
        "    self.actor = PolicyNetwork(self.state_dim, self.action_dim).to(self.device)\n",
        "    self.actor_target = PolicyNetwork(self.state_dim, self.action_dim).to(self.device)\n",
        "\n",
        "    # Copy critic target parameters\n",
        "    for target_param, param in zip(self.critic1_target.parameters(), self.critic1.parameters()):\n",
        "      target_param.data.copy_(param.data)\n",
        "\n",
        "    for target_param, param in zip(self.critic2_target.parameters(), self.critic2.parameters()):\n",
        "      target_param.data.copy_(param.data)\n",
        "\n",
        "    # Init optimizer\n",
        "    self.critic1_optim = Adam(self.critic1.parameters(), lr=critic_lr)\n",
        "    self.critic2_optim = Adam(self.critic2.parameters(), lr=critic_lr)\n",
        "    self.actor_optim = Adam(self.actor.parameters(), lr=actor_lr)\n",
        "\n",
        "    self.replay_buffer = ReplayBuffer(capacity=buffer_maxlen)\n",
        "\n",
        "  def get_action(self, state):\n",
        "    state = torch.FloatTensor(state).unsqueeze(0).to(self.device)\n",
        "    action = self.actor.forward(state)\n",
        "    action = action.squeeze(0).cpu().detach().numpy()\n",
        "\n",
        "    return action\n",
        "\n",
        "  def generate_action_space_noise(self, action_batch):\n",
        "    noise = torch.normal(torch.zeros(action_batch.size()), self.noise_std).clamp(-self.noise_bound, self.noise_bound).to(self.device)\n",
        "    return noise\n",
        "\n",
        "  def update_targets(self):\n",
        "    for target_param, param in zip(self.critic1_target.parameters(), self.critic1.parameters()):\n",
        "      target_param.data.copy_(param.data * self.tau + target_param.data * (1.0 - self.tau))\n",
        "\n",
        "    for target_param, param in zip(self.critic2_target.parameters(), self.critic2.parameters()):\n",
        "      target_param.data.copy_(param.data * self.tau + target_param.data * (1.0 - self.tau))\n",
        "        \n",
        "    for target_param, param in zip(self.actor_target.parameters(), self.actor.parameters()):\n",
        "      target_param.data.copy_(param.data * self.tau + target_param.data * (1.0 - self.tau))\n",
        "\n",
        "  def update(self, batch_size):\n",
        "    state_batch, action_batch, reward_batch, next_state_batch, masks = self.replay_buffer.sample(batch_size)\n",
        "    state_batch = torch.FloatTensor(state_batch).to(self.device)\n",
        "    action_batch = torch.FloatTensor(action_batch).to(self.device)\n",
        "    reward_batch = torch.FloatTensor(reward_batch).to(self.device)\n",
        "    next_state_batch = torch.FloatTensor(next_state_batch).to(self.device)\n",
        "    masks = torch.FloatTensor(masks).to(self.device)\n",
        "\n",
        "    action_space_noise = self.generate_action_space_noise(action_batch)\n",
        "    next_actions = self.actor.forward(state_batch) + action_space_noise\n",
        "    next_Q1 = self.critic1_target.forward(next_state_batch, next_actions)\n",
        "    next_Q2 = self.critic2_target.forward(next_state_batch, next_actions)\n",
        "    expected_Q = reward_batch + self.gamma * torch.min(next_Q1, next_Q2)\n",
        "\n",
        "    # Critic loss\n",
        "    curr_Q1 = self.critic1.forward(state_batch, action_batch)\n",
        "    curr_Q2 = self.critic2.forward(state_batch, action_batch)\n",
        "    critic1_loss = F.mse_loss(curr_Q1, expected_Q.detach())\n",
        "    critic2_loss = F.mse_loss(curr_Q2, expected_Q.detach())\n",
        "\n",
        "    # Update critic\n",
        "    self.critic1_optim.zero_grad()\n",
        "    critic1_loss.backward()\n",
        "    self.critic1_optim.step()\n",
        "\n",
        "    self.critic2_optim.zero_grad()\n",
        "    critic2_loss.backward()\n",
        "    self.critic2_optim.step()\n",
        "\n",
        "    # Delay update for actor and target networks\n",
        "    if self.update_step % self.delay_step == 0:\n",
        "      self.actor_optim.zero_grad()\n",
        "      policy_gradient = -self.critic1(state_batch, self.actor(state_batch)).mean()\n",
        "      policy_gradient.backward()\n",
        "      self.actor_optim.step()\n",
        "\n",
        "      self.update_targets()\n",
        "\n",
        "    self.update_step += 1"
      ]
    },
    {
      "cell_type": "markdown",
      "metadata": {
        "id": "ZXoUjSzcBlY-"
      },
      "source": [
        "# Training"
      ]
    },
    {
      "cell_type": "code",
      "execution_count": null,
      "metadata": {
        "id": "4hraUULdBw26"
      },
      "outputs": [],
      "source": [
        "def td3_train(env, agent, max_episode, max_step, batch_size):\n",
        "  episode_rewards = []\n",
        "\n",
        "  for episode in range(max_episode):\n",
        "    state = env.reset()\n",
        "    episode_reward = 0\n",
        "\n",
        "    for step in range(max_step):\n",
        "      action = agent.get_action(state)\n",
        "      next_state, reward, done, _ = env.step(action)\n",
        "      agent.replay_buffer.push(state, action, reward, next_state, done)\n",
        "      episode_reward += reward\n",
        "\n",
        "      if len(agent.replay_buffer) > batch_size:\n",
        "        agent.update(batch_size)\n",
        "\n",
        "      if done or step == max_step - 1:\n",
        "        episode_rewards.append(episode_reward)\n",
        "        break\n",
        "      \n",
        "      state = next_state\n",
        "\n",
        "    if episode % 10 == 0:\n",
        "      print(\"Episode \" + str(episode) + \": \" + str(episode_reward))\n",
        "\n",
        "  return episode_rewards"
      ]
    },
    {
      "cell_type": "code",
      "execution_count": null,
      "metadata": {
        "colab": {
          "base_uri": "https://localhost:8080/"
        },
        "id": "mwQ1cgFF9Ogw",
        "outputId": "cc9c0177-d74c-4226-9b0a-73814123683f"
      },
      "outputs": [
        {
          "output_type": "stream",
          "name": "stdout",
          "text": [
            "urdf_root=/usr/local/lib/python3.7/dist-packages/pybullet_data\n"
          ]
        },
        {
          "output_type": "stream",
          "name": "stderr",
          "text": [
            "/usr/local/lib/python3.7/dist-packages/gym/spaces/box.py:84: UserWarning: \u001b[33mWARN: Box bound precision lowered by casting to float32\u001b[0m\n",
            "  logger.warn(f\"Box bound precision lowered by casting to {self.dtype}\")\n"
          ]
        },
        {
          "output_type": "stream",
          "name": "stdout",
          "text": [
            "cuda\n"
          ]
        },
        {
          "output_type": "stream",
          "name": "stderr",
          "text": [
            "/usr/local/lib/python3.7/dist-packages/ipykernel_launcher.py:64: UserWarning: Creating a tensor from a list of numpy.ndarrays is extremely slow. Please consider converting the list to a single numpy.ndarray with numpy.array() before converting to a tensor. (Triggered internally at  ../torch/csrc/utils/tensor_new.cpp:210.)\n"
          ]
        },
        {
          "output_type": "stream",
          "name": "stdout",
          "text": [
            "Episode 0: 0.02339341855929758\n"
          ]
        },
        {
          "output_type": "stream",
          "name": "stderr",
          "text": [
            "/usr/local/lib/python3.7/dist-packages/ipykernel_launcher.py:68: DeprecationWarning: In future, it will be an error for 'np.bool_' scalars to be interpreted as an index\n"
          ]
        },
        {
          "output_type": "stream",
          "name": "stdout",
          "text": [
            "Episode 10: -0.17979408530651722\n",
            "Episode 20: -0.12095946931851802\n",
            "Episode 30: -0.11474823577611704\n",
            "Episode 40: -0.12556767472456948\n",
            "Episode 50: -0.12292735050453112\n",
            "Episode 60: -0.12797997232207323\n",
            "Episode 70: -0.11401366036758319\n",
            "Episode 80: -0.126924867041168\n",
            "Episode 90: -0.12284318016554971\n",
            "Episode 100: -0.12694305494992936\n",
            "Episode 110: -0.12442499449278306\n",
            "Episode 120: -0.11654269151228042\n",
            "Episode 130: -0.1232575651296974\n",
            "Episode 140: -0.12292849740277935\n",
            "Episode 150: -0.12193826020208019\n",
            "Episode 160: -0.1272297559828061\n",
            "Episode 170: -0.12442259378709088\n",
            "Episode 180: -0.12800128945999767\n",
            "Episode 190: -0.12389773601039193\n",
            "Episode 200: -0.1256781193927277\n",
            "Episode 210: -0.11752800933405146\n",
            "Episode 220: -0.12319861070557085\n",
            "Episode 230: -0.125992856207227\n",
            "Episode 240: -0.1144685935886174\n",
            "Episode 250: -0.1265130348046623\n",
            "Episode 260: -0.12273804608819593\n",
            "Episode 270: -0.1203907221176137\n",
            "Episode 280: -0.12366693035248226\n",
            "Episode 290: -0.12051585532403397\n",
            "Episode 300: -0.1288547528748185\n",
            "Episode 310: -0.11861764319707796\n",
            "Episode 320: -0.11489062129444631\n",
            "Episode 330: -0.1253897892986801\n",
            "Episode 340: -0.12547735640938268\n",
            "Episode 350: -0.16211803778092368\n",
            "Episode 360: -0.013591452449188421\n",
            "Episode 370: -0.007871409006285645\n",
            "Episode 380: -0.013086928654167974\n",
            "Episode 390: 0.05380288772553182\n",
            "Episode 400: -0.21936689729655007\n",
            "Episode 410: 0.07433757262719151\n",
            "Episode 420: 0.07367641796245664\n",
            "Episode 430: 0.0651907365521464\n",
            "Episode 440: 0.06171592034984754\n",
            "Episode 450: 0.06770778063001506\n",
            "Episode 460: 0.054833764982241816\n",
            "Episode 470: 0.056599100986762484\n",
            "Episode 480: 0.05826947395674384\n",
            "Episode 490: 0.06404573835261024\n",
            "Episode 500: 0.06389576800945214\n",
            "Episode 510: 0.061349126047814784\n",
            "Episode 520: 0.06325469544362734\n",
            "Episode 530: 0.06519284173888436\n",
            "Episode 540: 0.06559253025598802\n",
            "Episode 550: 0.0641239203780026\n",
            "Episode 560: 0.06737934182069175\n",
            "Episode 570: 0.05682967712050214\n",
            "Episode 580: 0.060119458388700295\n",
            "Episode 590: 0.06305140643693165\n",
            "Episode 600: 0.0641393561732343\n",
            "Episode 610: 0.05398901613057037\n",
            "Episode 620: 0.06612446845496796\n",
            "Episode 630: 0.06448034589782269\n",
            "Episode 640: 0.059123719687116744\n",
            "Episode 650: 0.05980454548933847\n",
            "Episode 660: 0.06114858241875878\n",
            "Episode 670: 0.06335828521051012\n",
            "Episode 680: 0.06082952888115555\n",
            "Episode 690: 0.059213156176504335\n",
            "Episode 700: 0.06223279227761296\n",
            "Episode 710: 0.05673434781022215\n",
            "Episode 720: 0.06289947485219752\n",
            "Episode 730: 0.06148937325653186\n",
            "Episode 740: 0.06571651061922855\n",
            "Episode 750: 0.057165972147007305\n",
            "Episode 760: 0.06782129243721406\n",
            "Episode 770: 0.06410568143298698\n",
            "Episode 780: 0.06407468919540318\n",
            "Episode 790: 0.06485519693246805\n",
            "Episode 800: 0.0647989213373385\n",
            "Episode 810: 0.06507209344459573\n",
            "Episode 820: 0.05775624293098803\n",
            "Episode 830: 0.06417914171806487\n",
            "Episode 840: 0.061374828076403445\n",
            "Episode 850: 0.054114111879287274\n",
            "Episode 860: 0.055083173331704184\n",
            "Episode 870: 0.059772509465480565\n",
            "Episode 880: 0.06270555342864678\n",
            "Episode 890: 0.0643384442505737\n",
            "Episode 900: 0.06059583349435817\n",
            "Episode 910: 0.06617633716159613\n",
            "Episode 920: 0.06576186566170357\n",
            "Episode 930: 0.06263582224044068\n",
            "Episode 940: 0.060934116757377844\n",
            "Episode 950: 0.07083570560387831\n",
            "Episode 960: 0.05881639838196069\n",
            "Episode 970: 0.05530097889926873\n",
            "Episode 980: 0.061621091476911555\n",
            "Episode 990: 0.06758332605145867\n",
            "Episode 1000: 0.06513364462370735\n",
            "Episode 1010: 0.0635330682559859\n",
            "Episode 1020: 0.05937883393298464\n",
            "Episode 1030: 0.06783977592176026\n",
            "Episode 1040: 0.06746386986722766\n",
            "Episode 1050: 0.06680006097371949\n",
            "Episode 1060: 0.06261137784217649\n",
            "Episode 1070: 0.054485008606889346\n",
            "Episode 1080: 0.0650410606305281\n",
            "Episode 1090: 0.06037998561973709\n",
            "Episode 1100: 0.050526811586206505\n",
            "Episode 1110: 0.062059766913823894\n",
            "Episode 1120: 0.06587562866228547\n",
            "Episode 1130: 0.06613237798759072\n",
            "Episode 1140: 0.06758219689043067\n",
            "Episode 1150: 0.06284233878476053\n",
            "Episode 1160: 0.06262125866403913\n",
            "Episode 1170: 0.06513638077495998\n",
            "Episode 1180: 0.06144531252822087\n",
            "Episode 1190: 0.06781851994839853\n",
            "Episode 1200: 0.06660560939311388\n",
            "Episode 1210: 0.05766612494118058\n",
            "Episode 1220: 0.06327374535608524\n",
            "Episode 1230: 0.06422095341350813\n",
            "Episode 1240: 0.05492913405705373\n",
            "Episode 1250: 0.06089563534470982\n",
            "Episode 1260: 0.05782303601055772\n",
            "Episode 1270: 0.06593179286987075\n",
            "Episode 1280: 0.06458242123044448\n",
            "Episode 1290: 0.06276029867352098\n",
            "Episode 1300: 0.05607472747738842\n",
            "Episode 1310: 0.06470466744888802\n",
            "Episode 1320: 0.06772498405278483\n",
            "Episode 1330: 0.060578390125732386\n",
            "Episode 1340: 0.05480546585739788\n",
            "Episode 1350: 0.057105994268940016\n",
            "Episode 1360: 0.06704766526822072\n",
            "Episode 1370: 0.06327163911675225\n",
            "Episode 1380: 0.06069780125183318\n",
            "Episode 1390: 0.06213110318252981\n",
            "Episode 1400: 0.05471123911824228\n",
            "Episode 1410: 0.06372527471732803\n",
            "Episode 1420: 0.05423467566079159\n",
            "Episode 1430: 0.06487425739586558\n",
            "Episode 1440: 0.060337593773990346\n",
            "Episode 1450: 0.06328949616289019\n",
            "Episode 1460: 0.06833376368875123\n",
            "Episode 1470: 0.058200510978280336\n",
            "Episode 1480: 0.06396769054437698\n",
            "Episode 1490: 0.06492064646485143\n",
            "Episode 1500: 0.058300323844497785\n",
            "Episode 1510: 0.06608413216934224\n",
            "Episode 1520: 0.06547902049790871\n",
            "Episode 1530: 0.06340071117238621\n",
            "Episode 1540: 0.06467807023330627\n",
            "Episode 1550: 0.05576983428836285\n",
            "Episode 1560: 0.06565165216631644\n",
            "Episode 1570: 0.06223324913765462\n",
            "Episode 1580: 0.06357845528189048\n",
            "Episode 1590: 0.06594109801659892\n",
            "Episode 1600: 0.0629352958213656\n",
            "Episode 1610: 0.05840747341041083\n",
            "Episode 1620: 0.06295893771132974\n",
            "Episode 1630: 0.06393856682479684\n",
            "Episode 1640: 0.06168841889824987\n",
            "Episode 1650: 0.05225565514802794\n",
            "Episode 1660: 0.060030567171466355\n",
            "Episode 1670: 0.05772938087932203\n",
            "Episode 1680: 0.058521662433312464\n",
            "Episode 1690: 0.052303560208436815\n",
            "Episode 1700: 0.05828338795327724\n",
            "Episode 1710: 0.05851550762502135\n",
            "Episode 1720: 0.06102920301828582\n",
            "Episode 1730: 0.06415091916079436\n",
            "Episode 1740: 0.060755054679076805\n",
            "Episode 1750: 0.055063720788957195\n",
            "Episode 1760: 0.05809121875983728\n",
            "Episode 1770: 0.0580850338909858\n",
            "Episode 1780: 0.06098610248394191\n",
            "Episode 1790: 0.06608041480515428\n",
            "Episode 1800: 0.061020084532174466\n",
            "Episode 1810: 0.060455470296325836\n",
            "Episode 1820: 0.06256383849249195\n",
            "Episode 1830: 0.06149161570739705\n",
            "Episode 1840: 0.06694296633315719\n",
            "Episode 1850: 0.060256690389681275\n",
            "Episode 1860: 0.06834894899215474\n",
            "Episode 1870: 0.06338033643432747\n",
            "Episode 1880: 0.06762030940209102\n",
            "Episode 1890: 0.061159480472474236\n",
            "Episode 1900: 0.06418625440542398\n",
            "Episode 1910: 0.06485348814987067\n",
            "Episode 1920: 0.06372608842385681\n",
            "Episode 1930: 0.05761446780606927\n",
            "Episode 1940: 0.056611861169649585\n",
            "Episode 1950: 0.06524386521978062\n",
            "Episode 1960: 0.067313637373336\n",
            "Episode 1970: 0.06347739553323399\n",
            "Episode 1980: 0.06327684452728304\n",
            "Episode 1990: 0.06004700662730991\n"
          ]
        }
      ],
      "source": [
        "env = gym.make('MinitaurBulletEnv-v0')\n",
        "\n",
        "gamma = 0.9\n",
        "tau = 0.01\n",
        "critic_lr = 1e-3\n",
        "actor_lr = 1e-3\n",
        "noise_std = 0.2\n",
        "noise_bound = 0.5\n",
        "delay_step = 2\n",
        "buffer_maxlen = 1000000\n",
        "\n",
        "max_episode = 2000\n",
        "\n",
        "agent = TD3Agent(env, gamma, tau, buffer_maxlen, delay_step, noise_std, noise_bound, critic_lr, actor_lr)\n",
        "\n",
        "print(agent.device)\n",
        "\n",
        "episode_rewards = td3_train(env, agent, max_episode, 500, 128)"
      ]
    },
    {
      "cell_type": "markdown",
      "metadata": {
        "id": "ziVMOTE5BoRd"
      },
      "source": [
        "# Evaluation"
      ]
    },
    {
      "cell_type": "code",
      "execution_count": null,
      "metadata": {
        "id": "AlfyfPsWa1ql",
        "colab": {
          "base_uri": "https://localhost:8080/",
          "height": 893
        },
        "outputId": "0915449e-4a68-4a39-c262-6ec4b06017c8"
      },
      "outputs": [
        {
          "output_type": "display_data",
          "data": {
            "text/plain": [
              "<Figure size 720x1080 with 1 Axes>"
            ],
            "image/png": "[encoded data removed]"
          },
          "metadata": {
            "needs_background": "light"
          }
        }
      ],
      "source": [
        "import matplotlib.pyplot as plt\n",
        "\n",
        "episodes = [i for i in range(max_episode) if i % 100 == 0]\n",
        "\n",
        "reward_per_hundred = [episode_rewards[i] for i in range(max_episode) if i % 100 == 0]\n",
        "\n",
        "plt.figure(figsize=(10, 15))\n",
        "plt.plot(episodes, reward_per_hundred)\n",
        "plt.title('Reward per 100 episodes')\n",
        "plt.xlabel(\"Episode\")\n",
        "plt.ylabel(\"Reward\")\n",
        "plt.show()"
      ]
    },
    {
      "cell_type": "code",
      "execution_count": null,
      "metadata": {
        "id": "Kda0YV6GBxeI",
        "colab": {
          "base_uri": "https://localhost:8080/",
          "height": 893
        },
        "outputId": "83bf2d63-97c7-4b60-dfd9-4bf8c2b7bc0c"
      },
      "outputs": [
        {
          "output_type": "display_data",
          "data": {
            "text/plain": [
              "<Figure size 720x1080 with 1 Axes>"
            ],
            "image/png": "[encoded data removed]"
          },
          "metadata": {
            "needs_background": "light"
          }
        }
      ],
      "source": [
        "episodes = [i for i in range(max_episode)]\n",
        "\n",
        "plt.figure(figsize=(10, 15))\n",
        "plt.plot(episodes, episode_rewards)\n",
        "plt.title('Reward per episode')\n",
        "plt.xlabel(\"Episode\")\n",
        "plt.ylabel(\"Reward\")\n",
        "plt.grid()\n",
        "plt.show()"
      ]
    }
  ],
  "metadata": {
    "accelerator": "GPU",
    "colab": {
      "name": "TD3_Minitaur.ipynb",
      "toc_visible": true,
      "provenance": [],
      "collapsed_sections": []
    },
    "gpuClass": "standard",
    "kernelspec": {
      "display_name": "Python 3",
      "name": "python3"
    },
    "language_info": {
      "name": "python"
    }
  },
  "nbformat": 4,
  "nbformat_minor": 0
}