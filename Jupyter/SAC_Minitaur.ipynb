{
  "nbformat": 4,
  "nbformat_minor": 0,
  "metadata": {
    "colab": {
      "name": "SAC_Minitaur.ipynb",
      "provenance": [],
      "collapsed_sections": [],
      "toc_visible": true
    },
    "kernelspec": {
      "name": "python3",
      "display_name": "Python 3"
    },
    "language_info": {
      "name": "python"
    },
    "accelerator": "GPU"
  },
  "cells": [
    {
      "cell_type": "markdown",
      "source": [
        "# Install dependencies"
      ],
      "metadata": {
        "id": "iF0Qw_x06ZU3"
      }
    },
    {
      "cell_type": "code",
      "execution_count": null,
      "metadata": {
        "colab": {
          "base_uri": "https://localhost:8080/"
        },
        "id": "hlcSTDE4S6lB",
        "outputId": "aa3574f0-5d88-4075-db34-e71fd849c0f5"
      },
      "outputs": [
        {
          "output_type": "stream",
          "name": "stdout",
          "text": [
            "Looking in indexes: https://pypi.org/simple, https://us-python.pkg.dev/colab-wheels/public/simple/\n",
            "Collecting pybullet\n",
            "  Downloading pybullet-3.2.5-cp37-cp37m-manylinux_2_5_x86_64.manylinux1_x86_64.whl (91.7 MB)\n",
            "\u001b[K     |████████████████████████████████| 91.7 MB 25 kB/s \n",
            "\u001b[?25hInstalling collected packages: pybullet\n",
            "Successfully installed pybullet-3.2.5\n",
            "Looking in indexes: https://pypi.org/simple, https://us-python.pkg.dev/colab-wheels/public/simple/\n",
            "Collecting tf-agents[reverb]\n",
            "  Downloading tf_agents-0.13.0-py3-none-any.whl (1.3 MB)\n",
            "\u001b[K     |████████████████████████████████| 1.3 MB 21.7 MB/s \n",
            "\u001b[?25hCollecting pygame==2.1.0\n",
            "  Downloading pygame-2.1.0-cp37-cp37m-manylinux_2_17_x86_64.manylinux2014_x86_64.whl (18.3 MB)\n",
            "\u001b[K     |████████████████████████████████| 18.3 MB 47 kB/s \n",
            "\u001b[?25hRequirement already satisfied: wrapt>=1.11.1 in /usr/local/lib/python3.7/dist-packages (from tf-agents[reverb]) (1.14.1)\n",
            "Requirement already satisfied: pillow in /usr/local/lib/python3.7/dist-packages (from tf-agents[reverb]) (7.1.2)\n",
            "Requirement already satisfied: gym<=0.23.0,>=0.17.0 in /usr/local/lib/python3.7/dist-packages (from tf-agents[reverb]) (0.17.3)\n",
            "Requirement already satisfied: typing-extensions>=3.7.4.3 in /usr/local/lib/python3.7/dist-packages (from tf-agents[reverb]) (4.1.1)\n",
            "Requirement already satisfied: tensorflow-probability>=0.16.0 in /usr/local/lib/python3.7/dist-packages (from tf-agents[reverb]) (0.16.0)\n",
            "Requirement already satisfied: numpy>=1.13.3 in /usr/local/lib/python3.7/dist-packages (from tf-agents[reverb]) (1.21.6)\n",
            "Requirement already satisfied: six>=1.10.0 in /usr/local/lib/python3.7/dist-packages (from tf-agents[reverb]) (1.15.0)\n",
            "Requirement already satisfied: cloudpickle>=1.3 in /usr/local/lib/python3.7/dist-packages (from tf-agents[reverb]) (1.3.0)\n",
            "Requirement already satisfied: protobuf>=3.11.3 in /usr/local/lib/python3.7/dist-packages (from tf-agents[reverb]) (3.17.3)\n",
            "Requirement already satisfied: absl-py>=0.6.1 in /usr/local/lib/python3.7/dist-packages (from tf-agents[reverb]) (1.1.0)\n",
            "Requirement already satisfied: gin-config>=0.4.0 in /usr/local/lib/python3.7/dist-packages (from tf-agents[reverb]) (0.5.0)\n",
            "Collecting tensorflow~=2.9.0\n",
            "  Downloading tensorflow-2.9.1-cp37-cp37m-manylinux_2_17_x86_64.manylinux2014_x86_64.whl (511.7 MB)\n",
            "\u001b[K     |████████████████████████████████| 511.7 MB 6.2 kB/s \n",
            "\u001b[?25hCollecting rlds\n",
            "  Downloading rlds-0.1.4-py3-none-manylinux2010_x86_64.whl (37 kB)\n",
            "Collecting dm-reverb~=0.8.0\n",
            "  Downloading dm_reverb-0.8.0-cp37-cp37m-manylinux2014_x86_64.whl (6.5 MB)\n",
            "\u001b[K     |████████████████████████████████| 6.5 MB 43.4 MB/s \n",
            "\u001b[?25hRequirement already satisfied: portpicker in /usr/local/lib/python3.7/dist-packages (from dm-reverb~=0.8.0->tf-agents[reverb]) (1.3.9)\n",
            "Requirement already satisfied: dm-tree in /usr/local/lib/python3.7/dist-packages (from dm-reverb~=0.8.0->tf-agents[reverb]) (0.1.7)\n",
            "Requirement already satisfied: pyglet<=1.5.0,>=1.4.0 in /usr/local/lib/python3.7/dist-packages (from gym<=0.23.0,>=0.17.0->tf-agents[reverb]) (1.5.0)\n",
            "Requirement already satisfied: scipy in /usr/local/lib/python3.7/dist-packages (from gym<=0.23.0,>=0.17.0->tf-agents[reverb]) (1.4.1)\n",
            "Requirement already satisfied: future in /usr/local/lib/python3.7/dist-packages (from pyglet<=1.5.0,>=1.4.0->gym<=0.23.0,>=0.17.0->tf-agents[reverb]) (0.16.0)\n",
            "Collecting tensorboard<2.10,>=2.9\n",
            "  Downloading tensorboard-2.9.1-py3-none-any.whl (5.8 MB)\n",
            "\u001b[K     |████████████████████████████████| 5.8 MB 35.5 MB/s \n",
            "\u001b[?25hCollecting tensorflow-estimator<2.10.0,>=2.9.0rc0\n",
            "  Downloading tensorflow_estimator-2.9.0-py2.py3-none-any.whl (438 kB)\n",
            "\u001b[K     |████████████████████████████████| 438 kB 49.5 MB/s \n",
            "\u001b[?25hRequirement already satisfied: packaging in /usr/local/lib/python3.7/dist-packages (from tensorflow~=2.9.0->tf-agents[reverb]) (21.3)\n",
            "Collecting keras<2.10.0,>=2.9.0rc0\n",
            "  Downloading keras-2.9.0-py2.py3-none-any.whl (1.6 MB)\n",
            "\u001b[K     |████████████████████████████████| 1.6 MB 49.7 MB/s \n",
            "\u001b[?25hRequirement already satisfied: opt-einsum>=2.3.2 in /usr/local/lib/python3.7/dist-packages (from tensorflow~=2.9.0->tf-agents[reverb]) (3.3.0)\n",
            "Requirement already satisfied: keras-preprocessing>=1.1.1 in /usr/local/lib/python3.7/dist-packages (from tensorflow~=2.9.0->tf-agents[reverb]) (1.1.2)\n",
            "Requirement already satisfied: grpcio<2.0,>=1.24.3 in /usr/local/lib/python3.7/dist-packages (from tensorflow~=2.9.0->tf-agents[reverb]) (1.46.3)\n",
            "Requirement already satisfied: tensorflow-io-gcs-filesystem>=0.23.1 in /usr/local/lib/python3.7/dist-packages (from tensorflow~=2.9.0->tf-agents[reverb]) (0.26.0)\n",
            "Collecting gast<=0.4.0,>=0.2.1\n",
            "  Downloading gast-0.4.0-py3-none-any.whl (9.8 kB)\n",
            "Requirement already satisfied: termcolor>=1.1.0 in /usr/local/lib/python3.7/dist-packages (from tensorflow~=2.9.0->tf-agents[reverb]) (1.1.0)\n",
            "Requirement already satisfied: setuptools in /usr/local/lib/python3.7/dist-packages (from tensorflow~=2.9.0->tf-agents[reverb]) (57.4.0)\n",
            "Requirement already satisfied: astunparse>=1.6.0 in /usr/local/lib/python3.7/dist-packages (from tensorflow~=2.9.0->tf-agents[reverb]) (1.6.3)\n",
            "Requirement already satisfied: libclang>=13.0.0 in /usr/local/lib/python3.7/dist-packages (from tensorflow~=2.9.0->tf-agents[reverb]) (14.0.1)\n",
            "Collecting flatbuffers<2,>=1.12\n",
            "  Downloading flatbuffers-1.12-py2.py3-none-any.whl (15 kB)\n",
            "Requirement already satisfied: h5py>=2.9.0 in /usr/local/lib/python3.7/dist-packages (from tensorflow~=2.9.0->tf-agents[reverb]) (3.1.0)\n",
            "Requirement already satisfied: google-pasta>=0.1.1 in /usr/local/lib/python3.7/dist-packages (from tensorflow~=2.9.0->tf-agents[reverb]) (0.2.0)\n",
            "Requirement already satisfied: wheel<1.0,>=0.23.0 in /usr/local/lib/python3.7/dist-packages (from astunparse>=1.6.0->tensorflow~=2.9.0->tf-agents[reverb]) (0.37.1)\n",
            "Requirement already satisfied: cached-property in /usr/local/lib/python3.7/dist-packages (from h5py>=2.9.0->tensorflow~=2.9.0->tf-agents[reverb]) (1.5.2)\n",
            "Requirement already satisfied: google-auth<3,>=1.6.3 in /usr/local/lib/python3.7/dist-packages (from tensorboard<2.10,>=2.9->tensorflow~=2.9.0->tf-agents[reverb]) (1.35.0)\n",
            "Requirement already satisfied: markdown>=2.6.8 in /usr/local/lib/python3.7/dist-packages (from tensorboard<2.10,>=2.9->tensorflow~=2.9.0->tf-agents[reverb]) (3.3.7)\n",
            "Requirement already satisfied: tensorboard-data-server<0.7.0,>=0.6.0 in /usr/local/lib/python3.7/dist-packages (from tensorboard<2.10,>=2.9->tensorflow~=2.9.0->tf-agents[reverb]) (0.6.1)\n",
            "Requirement already satisfied: requests<3,>=2.21.0 in /usr/local/lib/python3.7/dist-packages (from tensorboard<2.10,>=2.9->tensorflow~=2.9.0->tf-agents[reverb]) (2.23.0)\n",
            "Requirement already satisfied: tensorboard-plugin-wit>=1.6.0 in /usr/local/lib/python3.7/dist-packages (from tensorboard<2.10,>=2.9->tensorflow~=2.9.0->tf-agents[reverb]) (1.8.1)\n",
            "Requirement already satisfied: werkzeug>=1.0.1 in /usr/local/lib/python3.7/dist-packages (from tensorboard<2.10,>=2.9->tensorflow~=2.9.0->tf-agents[reverb]) (1.0.1)\n",
            "Requirement already satisfied: google-auth-oauthlib<0.5,>=0.4.1 in /usr/local/lib/python3.7/dist-packages (from tensorboard<2.10,>=2.9->tensorflow~=2.9.0->tf-agents[reverb]) (0.4.6)\n",
            "Requirement already satisfied: cachetools<5.0,>=2.0.0 in /usr/local/lib/python3.7/dist-packages (from google-auth<3,>=1.6.3->tensorboard<2.10,>=2.9->tensorflow~=2.9.0->tf-agents[reverb]) (4.2.4)\n",
            "Requirement already satisfied: rsa<5,>=3.1.4 in /usr/local/lib/python3.7/dist-packages (from google-auth<3,>=1.6.3->tensorboard<2.10,>=2.9->tensorflow~=2.9.0->tf-agents[reverb]) (4.8)\n",
            "Requirement already satisfied: pyasn1-modules>=0.2.1 in /usr/local/lib/python3.7/dist-packages (from google-auth<3,>=1.6.3->tensorboard<2.10,>=2.9->tensorflow~=2.9.0->tf-agents[reverb]) (0.2.8)\n",
            "Requirement already satisfied: requests-oauthlib>=0.7.0 in /usr/local/lib/python3.7/dist-packages (from google-auth-oauthlib<0.5,>=0.4.1->tensorboard<2.10,>=2.9->tensorflow~=2.9.0->tf-agents[reverb]) (1.3.1)\n",
            "Requirement already satisfied: importlib-metadata>=4.4 in /usr/local/lib/python3.7/dist-packages (from markdown>=2.6.8->tensorboard<2.10,>=2.9->tensorflow~=2.9.0->tf-agents[reverb]) (4.11.4)\n",
            "Requirement already satisfied: zipp>=0.5 in /usr/local/lib/python3.7/dist-packages (from importlib-metadata>=4.4->markdown>=2.6.8->tensorboard<2.10,>=2.9->tensorflow~=2.9.0->tf-agents[reverb]) (3.8.0)\n",
            "Requirement already satisfied: pyasn1<0.5.0,>=0.4.6 in /usr/local/lib/python3.7/dist-packages (from pyasn1-modules>=0.2.1->google-auth<3,>=1.6.3->tensorboard<2.10,>=2.9->tensorflow~=2.9.0->tf-agents[reverb]) (0.4.8)\n",
            "Requirement already satisfied: certifi>=2017.4.17 in /usr/local/lib/python3.7/dist-packages (from requests<3,>=2.21.0->tensorboard<2.10,>=2.9->tensorflow~=2.9.0->tf-agents[reverb]) (2022.6.15)\n",
            "Requirement already satisfied: chardet<4,>=3.0.2 in /usr/local/lib/python3.7/dist-packages (from requests<3,>=2.21.0->tensorboard<2.10,>=2.9->tensorflow~=2.9.0->tf-agents[reverb]) (3.0.4)\n",
            "Requirement already satisfied: idna<3,>=2.5 in /usr/local/lib/python3.7/dist-packages (from requests<3,>=2.21.0->tensorboard<2.10,>=2.9->tensorflow~=2.9.0->tf-agents[reverb]) (2.10)\n",
            "Requirement already satisfied: urllib3!=1.25.0,!=1.25.1,<1.26,>=1.21.1 in /usr/local/lib/python3.7/dist-packages (from requests<3,>=2.21.0->tensorboard<2.10,>=2.9->tensorflow~=2.9.0->tf-agents[reverb]) (1.24.3)\n",
            "Requirement already satisfied: oauthlib>=3.0.0 in /usr/local/lib/python3.7/dist-packages (from requests-oauthlib>=0.7.0->google-auth-oauthlib<0.5,>=0.4.1->tensorboard<2.10,>=2.9->tensorflow~=2.9.0->tf-agents[reverb]) (3.2.0)\n",
            "Requirement already satisfied: decorator in /usr/local/lib/python3.7/dist-packages (from tensorflow-probability>=0.16.0->tf-agents[reverb]) (4.4.2)\n",
            "Requirement already satisfied: pyparsing!=3.0.5,>=2.0.2 in /usr/local/lib/python3.7/dist-packages (from packaging->tensorflow~=2.9.0->tf-agents[reverb]) (3.0.9)\n",
            "Installing collected packages: gast, tensorflow-estimator, tensorboard, pygame, keras, flatbuffers, tf-agents, tensorflow, rlds, dm-reverb\n",
            "  Attempting uninstall: gast\n",
            "    Found existing installation: gast 0.5.3\n",
            "    Uninstalling gast-0.5.3:\n",
            "      Successfully uninstalled gast-0.5.3\n",
            "  Attempting uninstall: tensorflow-estimator\n",
            "    Found existing installation: tensorflow-estimator 2.8.0\n",
            "    Uninstalling tensorflow-estimator-2.8.0:\n",
            "      Successfully uninstalled tensorflow-estimator-2.8.0\n",
            "  Attempting uninstall: tensorboard\n",
            "    Found existing installation: tensorboard 2.8.0\n",
            "    Uninstalling tensorboard-2.8.0:\n",
            "      Successfully uninstalled tensorboard-2.8.0\n",
            "  Attempting uninstall: keras\n",
            "    Found existing installation: keras 2.8.0\n",
            "    Uninstalling keras-2.8.0:\n",
            "      Successfully uninstalled keras-2.8.0\n",
            "  Attempting uninstall: flatbuffers\n",
            "    Found existing installation: flatbuffers 2.0\n",
            "    Uninstalling flatbuffers-2.0:\n",
            "      Successfully uninstalled flatbuffers-2.0\n",
            "  Attempting uninstall: tensorflow\n",
            "    Found existing installation: tensorflow 2.8.2+zzzcolab20220527125636\n",
            "    Uninstalling tensorflow-2.8.2+zzzcolab20220527125636:\n",
            "      Successfully uninstalled tensorflow-2.8.2+zzzcolab20220527125636\n",
            "Successfully installed dm-reverb-0.8.0 flatbuffers-1.12 gast-0.4.0 keras-2.9.0 pygame-2.1.0 rlds-0.1.4 tensorboard-2.9.1 tensorflow-2.9.1 tensorflow-estimator-2.9.0 tf-agents-0.13.0\n",
            "Looking in indexes: https://pypi.org/simple, https://us-python.pkg.dev/colab-wheels/public/simple/\n",
            "Collecting gym==0.23.0\n",
            "  Downloading gym-0.23.0.tar.gz (624 kB)\n",
            "\u001b[K     |████████████████████████████████| 624 kB 30.8 MB/s \n",
            "\u001b[?25h  Installing build dependencies ... \u001b[?25l\u001b[?25hdone\n",
            "  Getting requirements to build wheel ... \u001b[?25l\u001b[?25hdone\n",
            "    Preparing wheel metadata ... \u001b[?25l\u001b[?25hdone\n",
            "Requirement already satisfied: cloudpickle>=1.2.0 in /usr/local/lib/python3.7/dist-packages (from gym==0.23.0) (1.3.0)\n",
            "Requirement already satisfied: importlib-metadata>=4.10.0 in /usr/local/lib/python3.7/dist-packages (from gym==0.23.0) (4.11.4)\n",
            "Requirement already satisfied: numpy>=1.18.0 in /usr/local/lib/python3.7/dist-packages (from gym==0.23.0) (1.21.6)\n",
            "Collecting gym-notices>=0.0.4\n",
            "  Downloading gym_notices-0.0.7-py3-none-any.whl (2.7 kB)\n",
            "Requirement already satisfied: typing-extensions>=3.6.4 in /usr/local/lib/python3.7/dist-packages (from importlib-metadata>=4.10.0->gym==0.23.0) (4.1.1)\n",
            "Requirement already satisfied: zipp>=0.5 in /usr/local/lib/python3.7/dist-packages (from importlib-metadata>=4.10.0->gym==0.23.0) (3.8.0)\n",
            "Building wheels for collected packages: gym\n",
            "  Building wheel for gym (PEP 517) ... \u001b[?25l\u001b[?25hdone\n",
            "  Created wheel for gym: filename=gym-0.23.0-py3-none-any.whl size=697660 sha256=154e0497586c3682478abf1f81e39e469684dcc45eb372a8a3aabaaf6b639695\n",
            "  Stored in directory: /root/.cache/pip/wheels/f0/7e/16/4d727df048fdb96518ec5c02266e55b98bc398837353852a6a\n",
            "Successfully built gym\n",
            "Installing collected packages: gym-notices, gym\n",
            "  Attempting uninstall: gym\n",
            "    Found existing installation: gym 0.17.3\n",
            "    Uninstalling gym-0.17.3:\n",
            "      Successfully uninstalled gym-0.17.3\n",
            "Successfully installed gym-0.23.0 gym-notices-0.0.7\n"
          ]
        }
      ],
      "source": [
        "!pip install -U pybullet\n",
        "!pip install -U tf-agents[reverb]\n",
        "!pip install -U gym==0.23.0"
      ]
    },
    {
      "cell_type": "code",
      "source": [
        "import gym\n",
        "import random\n",
        "import PIL.Image\n",
        "import pybullet_envs\n",
        "import pybullet_envs.bullet as bul\n",
        "from tf_agents.environments import suite_pybullet\n",
        "import numpy as np\n",
        "import torch\n",
        "import torch.nn as nn\n",
        "import torch.nn.functional as F\n",
        "from torch.distributions import Normal\n",
        "from torch.optim import Adam\n",
        "from collections import deque"
      ],
      "metadata": {
        "id": "yloM9FGLVSAL",
        "colab": {
          "base_uri": "https://localhost:8080/"
        },
        "outputId": "d64b88a1-7149-45f1-f97b-3141e73c1787"
      },
      "execution_count": null,
      "outputs": [
        {
          "output_type": "stream",
          "name": "stdout",
          "text": [
            "current_dir=/usr/local/lib/python3.7/dist-packages/pybullet_envs/bullet\n"
          ]
        }
      ]
    },
    {
      "cell_type": "markdown",
      "source": [
        "# Display Environment"
      ],
      "metadata": {
        "id": "CnQHqN7CW23O"
      }
    },
    {
      "cell_type": "code",
      "source": [
        "env_name = \"MinitaurBulletEnv-v0\"\n",
        "\n",
        "# env = suite_pybullet.load(env_name)\n",
        "# env.reset()\n",
        "# PIL.Image.fromarray(env.render())"
      ],
      "metadata": {
        "id": "wGhDpdbqW5pw"
      },
      "execution_count": null,
      "outputs": []
    },
    {
      "cell_type": "markdown",
      "source": [
        "# Ultility "
      ],
      "metadata": {
        "id": "VHufbJ27erCr"
      }
    },
    {
      "cell_type": "code",
      "source": [
        "class NormalizedActions(gym.ActionWrapper):\n",
        "    def action(self, action):\n",
        "        low_bound   = self.action_space.low\n",
        "        upper_bound = self.action_space.high\n",
        "\n",
        "        action = low_bound + (action + 1.0) * 0.5 * (upper_bound - low_bound)\n",
        "        action = np.clip(action, low_bound, upper_bound)\n",
        "\n",
        "        return action\n",
        "\n",
        "    def reverse_action(self, action):\n",
        "        low_bound   = self.action_space.low\n",
        "        upper_bound = self.action_space.high\n",
        "\n",
        "        action = 2 * (action - low_bound) / (upper_bound - low_bound) - 1\n",
        "        action = np.clip(action, low_bound, upper_bound)\n",
        "\n",
        "        return action"
      ],
      "metadata": {
        "id": "fwr9xKMueqQe"
      },
      "execution_count": null,
      "outputs": []
    },
    {
      "cell_type": "markdown",
      "source": [
        "# Initialize ReplayBuffer, Actor, Critic Network"
      ],
      "metadata": {
        "id": "1Dvi5GDS6kck"
      }
    },
    {
      "cell_type": "markdown",
      "source": [
        "## Replay Buffer"
      ],
      "metadata": {
        "id": "i9QgySKiB7BJ"
      }
    },
    {
      "cell_type": "code",
      "source": [
        "class ReplayBuffer:\n",
        "  def __init__(self, capacity):\n",
        "    self.capacity = capacity\n",
        "    self.buffer = deque(maxlen=capacity)\n",
        "\n",
        "  def push(self, state, action, reward, next_state, done):\n",
        "    experience = (state, action, np.array([reward]), next_state, done)\n",
        "    self.buffer.append(experience)\n",
        "\n",
        "  def sample(self, batch_size):\n",
        "    state_batch = []\n",
        "    action_batch = []\n",
        "    reward_batch = []\n",
        "    next_state_batch = []\n",
        "    done_batch = []\n",
        "\n",
        "    batch = random.sample(self.buffer, batch_size)\n",
        "\n",
        "    for experience in batch:\n",
        "      state, action, reward, next_state, done = experience\n",
        "      state_batch.append(state)\n",
        "      action_batch.append(action)\n",
        "      reward_batch.append(reward)\n",
        "      next_state_batch.append(next_state)\n",
        "      done_batch.append(done)\n",
        "\n",
        "    return (state_batch, action_batch, reward_batch, next_state_batch, done_batch)\n",
        "\n",
        "  def __len__(self):\n",
        "    return len(self.buffer)"
      ],
      "metadata": {
        "id": "605CsRl1i16U"
      },
      "execution_count": null,
      "outputs": []
    },
    {
      "cell_type": "markdown",
      "source": [
        "## Soft Q Network as Critic"
      ],
      "metadata": {
        "id": "lskGNTWSCFOi"
      }
    },
    {
      "cell_type": "code",
      "source": [
        "## Act as Critic\n",
        "class QNetwork(nn.Module):\n",
        "  def __init__(self, num_inputs, num_actions, hidden_dim=256, init_w=3e-3):\n",
        "    super(QNetwork, self).__init__()\n",
        "    self.linear1 = nn.Linear(num_inputs + num_actions, hidden_dim)\n",
        "    self.linear2 = nn.Linear(hidden_dim, hidden_dim)\n",
        "    self.linear3 = nn.Linear(hidden_dim, 1)\n",
        "\n",
        "    self.linear3.weight.data.uniform_(-init_w, init_w)\n",
        "    self.linear3.bias.data.uniform_(-init_w, init_w)\n",
        "\n",
        "  def forward(self, state, action):\n",
        "    x = torch.cat([state, action], 1)\n",
        "    x = F.relu(self.linear1(x))\n",
        "    x = F.relu(self.linear2(x))\n",
        "    x = self.linear3(x)\n",
        "    return x"
      ],
      "metadata": {
        "id": "v77KWlz-9FC7"
      },
      "execution_count": null,
      "outputs": []
    },
    {
      "cell_type": "markdown",
      "source": [
        "## Policy - Actor Network"
      ],
      "metadata": {
        "id": "XxRbYsiKCLgs"
      }
    },
    {
      "cell_type": "code",
      "source": [
        "## Act as Actor\n",
        "class PolicyNetwork(nn.Module):\n",
        "  def __init__(self, num_inputs, num_actions, hidden_dim=256, init_w=3e-3, log_std_min=-20, log_std_max=2):\n",
        "    super(PolicyNetwork, self).__init__()\n",
        "    self.log_std_min = log_std_min\n",
        "    self.log_std_max = log_std_max\n",
        "\n",
        "    self.linear1 = nn.Linear(num_inputs, hidden_dim)\n",
        "    self.linear2 = nn.Linear(hidden_dim, hidden_dim)\n",
        "\n",
        "    self.mean_linear = nn.Linear(hidden_dim, num_actions)\n",
        "    self.mean_linear.weight.data.uniform_(-init_w, init_w)\n",
        "    self.mean_linear.bias.data.uniform_(-init_w, init_w)\n",
        "\n",
        "    self.log_std_linear = nn.Linear(hidden_dim, num_actions)\n",
        "    self.log_std_linear.weight.data.uniform_(-init_w, init_w)\n",
        "    self.log_std_linear.bias.data.uniform_(-init_w, init_w)\n",
        "\n",
        "    self.action_scale = torch.tensor(1.)\n",
        "    self.action_bias = torch.tensor(0.)\n",
        "\n",
        "  def forward(self, state):\n",
        "    x = F.relu(self.linear1(state))\n",
        "    x = F.relu(self.linear2(x))\n",
        "\n",
        "    mean = self.mean_linear(x)\n",
        "    log_std = self.log_std_linear(x)\n",
        "    log_std = torch.clamp(log_std, min=self.log_std_min, max=self.log_std_max)\n",
        "\n",
        "    return mean, log_std\n",
        "\n",
        "  def sample(self, state, epsilon=1e-6):\n",
        "    mean, log_std = self.forward(state)\n",
        "    std = log_std.exp()\n",
        "\n",
        "    normal = Normal(mean, std)\n",
        "    z = normal.rsample()            # Reparameterization (mean + std * N(0,1))\n",
        "    action = torch.tanh(z)\n",
        "    action = action * self.action_scale + self.action_bias\n",
        "\n",
        "    # Enforcing action bound\n",
        "    log_pi = normal.log_prob(z) - torch.log(1 - action.pow(2) + epsilon)\n",
        "    log_pi = log_pi.sum(1, keepdim=True)\n",
        "    mean = torch.tanh(mean) * self.action_scale + self.action_bias\n",
        "\n",
        "    return action, log_pi, mean\n",
        "\n",
        "  def to(self, device):\n",
        "    self.action_scale = self.action_scale.to(device)\n",
        "    self.action_bias = self.action_bias.to(device)\n",
        "    return super(PolicyNetwork, self).to(device)"
      ],
      "metadata": {
        "id": "Oy7frXQDjJyY"
      },
      "execution_count": null,
      "outputs": []
    },
    {
      "cell_type": "markdown",
      "source": [
        "## Initialize SAC Agent"
      ],
      "metadata": {
        "id": "0bPtp8LjCSAD"
      }
    },
    {
      "cell_type": "code",
      "source": [
        "class SACAgent:\n",
        "  def __init__(self, env, gamma, tau, alpha, q_lr, policy_lr, a_lr, buffer_maxlen):\n",
        "    self.device = torch.device(\"cuda\" if torch.cuda.is_available() else \"cpu\")\n",
        "\n",
        "    self.env = env\n",
        "    self.action_range = [env.action_space.low, env.action_space.high]\n",
        "\n",
        "    # Hyperparameter\n",
        "    self.gamma = gamma    ## Discount rate\n",
        "    self.tau = tau      \n",
        "    self.update_step = 0\n",
        "    self.delay_step = 2\n",
        "\n",
        "    # Init network\n",
        "    ## Critic Net\n",
        "    self.q_net1 = QNetwork(env.observation_space.shape[0], env.action_space.shape[0]).to(self.device)\n",
        "    self.q_net2 = QNetwork(env.observation_space.shape[0], env.action_space.shape[0]).to(self.device)\n",
        "\n",
        "    ## Actor Net\n",
        "    self.policy_net = PolicyNetwork(env.observation_space.shape[0], env.action_space.shape[0]).to(self.device)\n",
        "\n",
        "    ## Target Net\n",
        "    self.target_net1 = QNetwork(env.observation_space.shape[0], env.action_space.shape[0]).to(self.device)\n",
        "    self.target_net2 = QNetwork(env.observation_space.shape[0], env.action_space.shape[0]).to(self.device)\n",
        "\n",
        "    # Copy params to target\n",
        "    for target_param, param in zip(self.target_net1.parameters(), self.q_net1.parameters()):\n",
        "      target_param.data.copy_(param.data)\n",
        "\n",
        "    for target_param, param in zip(self.target_net2.parameters(), self.q_net2.parameters()):\n",
        "      target_param.data.copy_(param.data)\n",
        "\n",
        "    # Init optimizers\n",
        "    self.q1_optimizer = Adam(self.q_net1.parameters(), lr=q_lr)\n",
        "    self.q2_optimizer = Adam(self.q_net2.parameters(), lr=q_lr)\n",
        "    self.policy_optimizer = Adam(self.policy_net.parameters(), lr=policy_lr)\n",
        "\n",
        "    # Entropy\n",
        "    self.alpha = alpha    ## Tempature param\n",
        "    self.target_entropy = -torch.prod(torch.Tensor(self.env.action_space.shape).to(self.device)).item()\n",
        "    self.log_alpha = torch.zeros(1, requires_grad=True, device=self.device)\n",
        "    self.alpha_optim = Adam([self.log_alpha], lr=a_lr)\n",
        "\n",
        "    # ReplayBuffer\n",
        "    self.replay_buffer = ReplayBuffer(buffer_maxlen)\n",
        "\n",
        "  def rescale_action(self, action):\n",
        "    return action * (self.action_range[1] - self.action_range[0]) / 2.0 + (self.action_range[1] + self.action_range[0]) / 2.0\n",
        "\n",
        "  def get_action(self, state):\n",
        "    state = torch.FloatTensor(state).to(self.device).unsqueeze(0)\n",
        "    mean, log_std = self.policy_net.forward(state)\n",
        "    std = log_std.exp()\n",
        "\n",
        "    normal = Normal(mean, std)\n",
        "    z = normal.sample()\n",
        "    action = torch.tanh(z)\n",
        "    action = action.cpu().detach().squeeze(0).numpy()\n",
        "\n",
        "    return self.rescale_action(action)\n",
        "\n",
        "  def update(self, batch_size):\n",
        "    states, actions, rewards, next_states, dones = self.replay_buffer.sample(batch_size)\n",
        "\n",
        "    states = torch.FloatTensor(states).to(self.device)\n",
        "    actions = torch.FloatTensor(actions).to(self.device)\n",
        "    rewards = torch.FloatTensor(rewards).to(self.device)\n",
        "    next_states = torch.FloatTensor(next_states).to(self.device)\n",
        "    dones = torch.FloatTensor(dones).to(self.device)\n",
        "    dones = dones.view(dones.size(0), -1)\n",
        "\n",
        "    next_actions, next_log_pi, _ = self.policy_net.sample(next_states)\n",
        "    next_q1 = self.target_net1(next_states, next_actions)\n",
        "    next_q2 = self.target_net2(next_states, next_actions)\n",
        "    next_q_target = torch.min(next_q1, next_q2) - self.alpha * next_log_pi\n",
        "    expected_q = rewards + (1 - dones) * self.gamma * next_q_target\n",
        "\n",
        "    # Calculate q loss\n",
        "    curr_q1 = self.q_net1.forward(states, actions)\n",
        "    curr_q2 = self.q_net2.forward(states, actions)\n",
        "    q1_loss = F.mse_loss(curr_q1, expected_q.detach())\n",
        "    q2_loss = F.mse_loss(curr_q2, expected_q.detach())\n",
        "\n",
        "    # Update Q networks\n",
        "    self.q1_optimizer.zero_grad()\n",
        "    q1_loss.backward()\n",
        "    self.q1_optimizer.step()\n",
        "\n",
        "    self.q2_optimizer.zero_grad()\n",
        "    q2_loss.backward()\n",
        "    self.q2_optimizer.step()\n",
        "\n",
        "    # Delayed update for policy network and target q network\n",
        "    new_actions, log_pi, _ = self.policy_net.sample(states)\n",
        "    if self.update_step % self.delay_step == 0:\n",
        "      min_q = torch.min(self.q_net1.forward(states, new_actions), \n",
        "                        self.q_net2.forward(states, new_actions))\n",
        "      policy_loss = (self.alpha * log_pi - min_q).mean()\n",
        "      \n",
        "      self.policy_optimizer.zero_grad()\n",
        "      policy_loss.backward()\n",
        "      self.policy_optimizer.step()\n",
        "\n",
        "      # Target network\n",
        "      for target_param, param in zip(self.target_net1.parameters(), self.q_net1.parameters()):\n",
        "        target_param.data.copy_(self.tau * param.data + (1 - self.tau) * target_param.data)\n",
        "\n",
        "      for target_param, param in zip(self.target_net2.parameters(), self.q_net2.parameters()):\n",
        "        target_param.data.copy_(self.tau * param.data + (1 - self.tau) * target_param.data)\n",
        "\n",
        "    # Update tempature\n",
        "    alpha_loss = (self.log_alpha * (-log_pi - self.target_entropy).detach()).mean()\n",
        "\n",
        "    self.alpha_optim.zero_grad()\n",
        "    alpha_loss.backward()\n",
        "    self.alpha_optim.step()\n",
        "    self.alpha = self.log_alpha.exp()\n",
        "\n",
        "    self.update_step += 1"
      ],
      "metadata": {
        "id": "GJZ5NskKkaBT"
      },
      "execution_count": null,
      "outputs": []
    },
    {
      "cell_type": "markdown",
      "source": [
        "# Training"
      ],
      "metadata": {
        "id": "jYYMq4Z760bV"
      }
    },
    {
      "cell_type": "code",
      "source": [
        "def sac_train(env, agent, max_episode, max_step, batch_size):\n",
        "  episode_rewards = []\n",
        "  update_step = 0\n",
        "\n",
        "  for episode in range(max_episode):\n",
        "    state = env.reset()\n",
        "    episode_reward = 0\n",
        "\n",
        "    for step in range(max_step):\n",
        "      action = agent.get_action(state)\n",
        "      next_state, reward, done, _ = env.step(action)\n",
        "      agent.replay_buffer.push(state, action, reward, next_state, done)\n",
        "      episode_reward += reward\n",
        "\n",
        "      if len(agent.replay_buffer) > batch_size:\n",
        "        agent.update(batch_size)\n",
        "        update_step += 1\n",
        "\n",
        "      if done or step == max_step - 1:\n",
        "        episode_rewards.append(episode_reward)\n",
        "        break\n",
        "      \n",
        "      state = next_state\n",
        "    if episode % 10 == 0:\n",
        "      print(\"Episode \" + str(episode) + \": \" + str(episode_reward))\n",
        "\n",
        "  return episode_rewards"
      ],
      "metadata": {
        "id": "urPsxWA9k--8"
      },
      "execution_count": null,
      "outputs": []
    },
    {
      "cell_type": "code",
      "source": [
        "env = gym.make(env_name)\n",
        "\n",
        "gamma = 0.99\n",
        "tau = 0.01\n",
        "alpha = 0.2\n",
        "a_lr = 3e-4\n",
        "q_lr = 3e-4\n",
        "p_lr = 3e-3\n",
        "buffer_maxlen = 1000000\n",
        "\n",
        "max_episode = 2000\n",
        "\n",
        "agent = SACAgent(env, gamma, tau, alpha, q_lr, p_lr, a_lr, buffer_maxlen)\n",
        "\n",
        "episode_rewards = sac_train(env, agent, max_episode, 500, 64)"
      ],
      "metadata": {
        "colab": {
          "base_uri": "https://localhost:8080/"
        },
        "id": "lKqa7F_QShJS",
        "outputId": "593a80c1-b056-4730-d26c-b810fae481c4"
      },
      "execution_count": null,
      "outputs": [
        {
          "output_type": "stream",
          "name": "stdout",
          "text": [
            "urdf_root=/usr/local/lib/python3.7/dist-packages/pybullet_data\n"
          ]
        },
        {
          "output_type": "stream",
          "name": "stderr",
          "text": [
            "/usr/local/lib/python3.7/dist-packages/gym/spaces/box.py:84: UserWarning: \u001b[33mWARN: Box bound precision lowered by casting to float32\u001b[0m\n",
            "  logger.warn(f\"Box bound precision lowered by casting to {self.dtype}\")\n",
            "/usr/local/lib/python3.7/dist-packages/ipykernel_launcher.py:65: UserWarning: Creating a tensor from a list of numpy.ndarrays is extremely slow. Please consider converting the list to a single numpy.ndarray with numpy.array() before converting to a tensor. (Triggered internally at  ../torch/csrc/utils/tensor_new.cpp:210.)\n"
          ]
        },
        {
          "output_type": "stream",
          "name": "stdout",
          "text": [
            "Episode 0: -0.9098790070862549\n"
          ]
        },
        {
          "output_type": "stream",
          "name": "stderr",
          "text": [
            "/usr/local/lib/python3.7/dist-packages/ipykernel_launcher.py:69: DeprecationWarning: In future, it will be an error for 'np.bool_' scalars to be interpreted as an index\n"
          ]
        },
        {
          "output_type": "stream",
          "name": "stdout",
          "text": [
            "Episode 10: -0.7848677860751411\n",
            "Episode 20: -0.8854090448922494\n",
            "Episode 30: -0.14786045312281304\n",
            "Episode 40: -0.3669835176203007\n",
            "Episode 50: -0.15514956034871472\n",
            "Episode 60: -0.4796860010548278\n",
            "Episode 70: -0.098300271148693\n",
            "Episode 80: -0.20216563927802986\n",
            "Episode 90: -0.22114748046228366\n",
            "Episode 100: -0.8082574328906161\n",
            "Episode 110: -0.08280549723141316\n",
            "Episode 120: -0.04603128734408723\n",
            "Episode 130: -0.062290530771137484\n",
            "Episode 140: -0.02545019137255221\n",
            "Episode 150: -1.09506289889087\n",
            "Episode 160: -0.5335918490185613\n",
            "Episode 170: -0.21634819298401148\n",
            "Episode 180: -0.8667859433247602\n",
            "Episode 190: -0.09521085238891774\n",
            "Episode 200: -0.48992173483505375\n",
            "Episode 210: -1.1053971137973788\n",
            "Episode 220: -0.6278675288356759\n",
            "Episode 230: -0.1609719002652557\n",
            "Episode 240: -0.47076767808515807\n",
            "Episode 250: -0.3766895321069555\n",
            "Episode 260: -0.14176677523434256\n",
            "Episode 270: -0.46942910907352536\n",
            "Episode 280: -0.6100036238358267\n",
            "Episode 290: -0.14352374993831693\n",
            "Episode 300: -1.0645353675060207\n",
            "Episode 310: -0.3480708878154368\n",
            "Episode 320: -0.07308856158398983\n",
            "Episode 330: 0.22541132204573536\n",
            "Episode 340: 0.013020298503149405\n",
            "Episode 350: 0.8086659128385654\n",
            "Episode 360: 1.048363493684038\n",
            "Episode 370: 0.047664253894561096\n",
            "Episode 380: 0.023441331098158817\n",
            "Episode 390: 0.19643429156465783\n",
            "Episode 400: 0.3015611443963111\n",
            "Episode 410: 0.21701155994204105\n",
            "Episode 420: 0.32990819121296194\n",
            "Episode 430: 0.23203019182409595\n",
            "Episode 440: 0.3205288253189118\n",
            "Episode 450: 0.04269900558967389\n",
            "Episode 460: 0.4168970807802008\n",
            "Episode 470: 0.5437796150489599\n",
            "Episode 480: 0.22587544225689457\n",
            "Episode 490: 0.41140337818715716\n",
            "Episode 500: 0.2049381895950432\n",
            "Episode 510: 0.11932768925013719\n",
            "Episode 520: 0.40411357795601843\n",
            "Episode 530: 0.16577653671281595\n",
            "Episode 540: 0.49428632418991986\n",
            "Episode 550: 0.28661242225088396\n",
            "Episode 560: 0.29430287448762776\n",
            "Episode 570: 0.25330960910847933\n",
            "Episode 580: 0.18277294764571533\n",
            "Episode 590: 0.19960489395310405\n",
            "Episode 600: 0.29330241813051844\n",
            "Episode 610: 0.21465974746914554\n",
            "Episode 620: 0.33500004958344465\n",
            "Episode 630: 0.2524663534817863\n",
            "Episode 640: 0.20885645781593135\n",
            "Episode 650: 0.30470681693748447\n",
            "Episode 660: 0.2760088467127401\n",
            "Episode 670: 0.34583335713768426\n",
            "Episode 680: 0.2847130713205431\n",
            "Episode 690: 0.3060169583004358\n",
            "Episode 700: 0.2871889343642105\n",
            "Episode 710: 0.24297451137895068\n",
            "Episode 720: 0.3020801255716377\n",
            "Episode 730: 0.26824376069996114\n",
            "Episode 740: 0.29467776785462524\n",
            "Episode 750: 0.2713350995953362\n",
            "Episode 760: 0.28663178221311364\n",
            "Episode 770: 0.17299780496846115\n",
            "Episode 780: 0.20458837069118654\n",
            "Episode 790: 0.24083222036815033\n",
            "Episode 800: 0.28122069858574317\n",
            "Episode 810: 0.18558479076900836\n",
            "Episode 820: 0.19836339011131923\n",
            "Episode 830: 0.3057876039431418\n",
            "Episode 840: 0.23443162589016533\n",
            "Episode 850: 0.3257317983381637\n",
            "Episode 860: 0.304803185762145\n",
            "Episode 870: 0.27917056763252096\n",
            "Episode 880: 0.23967793941155366\n",
            "Episode 890: 0.2269171534767397\n",
            "Episode 900: 0.31845536959227094\n",
            "Episode 910: 0.28183619087555223\n",
            "Episode 920: 0.29240706326187293\n",
            "Episode 930: 0.28843437098015723\n",
            "Episode 940: 0.24820196195179547\n",
            "Episode 950: 0.3075319786807716\n",
            "Episode 960: 0.2994383397830735\n",
            "Episode 970: 0.23586164437023574\n",
            "Episode 980: 0.28793459280415334\n",
            "Episode 990: 0.27368336800446835\n",
            "Episode 1000: 0.2632215139911151\n",
            "Episode 1010: 0.33092139314032637\n",
            "Episode 1020: 0.29550703459392225\n",
            "Episode 1030: 0.2718534856456446\n",
            "Episode 1040: 0.3089977732285657\n",
            "Episode 1050: 0.3037541568068199\n",
            "Episode 1060: 0.26112357894456806\n",
            "Episode 1070: 0.5207725132939413\n",
            "Episode 1080: 0.2779290041917214\n",
            "Episode 1090: 0.2958631051669724\n",
            "Episode 1100: 0.356458713411719\n",
            "Episode 1110: 0.37837953175111083\n",
            "Episode 1120: 0.3016148262994558\n",
            "Episode 1130: 0.32940175834570146\n",
            "Episode 1140: 0.473099376225415\n",
            "Episode 1150: 0.3385664834828504\n",
            "Episode 1160: 0.38346284020895444\n",
            "Episode 1170: 0.3409190309321218\n",
            "Episode 1180: 0.3525216236340677\n",
            "Episode 1190: 0.3861198924667407\n",
            "Episode 1200: 0.3331252090380338\n",
            "Episode 1210: 0.3632569600196996\n",
            "Episode 1220: 0.336195327856319\n",
            "Episode 1230: 0.3632074273626996\n",
            "Episode 1240: 0.31138415799269664\n",
            "Episode 1250: 0.3017737037678922\n",
            "Episode 1260: 0.35466858292270514\n",
            "Episode 1270: 0.3057840819829059\n",
            "Episode 1280: 0.311501722883485\n",
            "Episode 1290: 0.3269867633326343\n",
            "Episode 1300: 0.2813672264621061\n",
            "Episode 1310: 0.3666460290232152\n",
            "Episode 1320: 0.3695951977406474\n",
            "Episode 1330: 0.24979889466274588\n",
            "Episode 1340: 0.48440517232677754\n",
            "Episode 1350: 0.32066398902109555\n",
            "Episode 1360: 0.3012888899622383\n",
            "Episode 1370: 0.32517288463820504\n",
            "Episode 1380: 0.5585698048954508\n",
            "Episode 1390: 0.274937674111865\n",
            "Episode 1400: 0.4076908576859018\n",
            "Episode 1410: 0.3345530615682069\n",
            "Episode 1420: 0.49269218175230683\n",
            "Episode 1430: 0.371525345079396\n",
            "Episode 1440: 0.36759910950685076\n",
            "Episode 1450: 0.3629614956132999\n",
            "Episode 1460: 0.3486869890247917\n",
            "Episode 1470: 0.704954091372705\n",
            "Episode 1480: 0.6254189802338608\n",
            "Episode 1490: 0.3085331602794072\n",
            "Episode 1500: 0.32016780183416904\n",
            "Episode 1510: 0.4463973573425179\n",
            "Episode 1520: 0.275299564335628\n",
            "Episode 1530: 0.273250900287799\n",
            "Episode 1540: 0.5485110858379681\n",
            "Episode 1550: 0.3626441023752035\n",
            "Episode 1560: 0.3016199108969589\n",
            "Episode 1570: 0.4247840997601097\n",
            "Episode 1580: 0.33017580276378156\n",
            "Episode 1590: 0.35406298323795016\n",
            "Episode 1600: 0.9534883128741213\n",
            "Episode 1610: 0.39937354622621296\n",
            "Episode 1620: 0.3741464322597701\n",
            "Episode 1630: 0.32662973675324714\n",
            "Episode 1640: 0.8282986702712493\n",
            "Episode 1650: 0.3392353792263089\n",
            "Episode 1660: 0.23970699663227085\n",
            "Episode 1670: 1.3911377848436859\n",
            "Episode 1680: 0.24766714292953718\n",
            "Episode 1690: 1.1820953734361486\n",
            "Episode 1700: 0.21546317173516952\n",
            "Episode 1710: 0.928480056861925\n",
            "Episode 1720: 0.20775964602535194\n",
            "Episode 1730: 0.4697573611076891\n",
            "Episode 1740: 0.7792445253869741\n",
            "Episode 1750: 0.7955600996351254\n",
            "Episode 1760: 0.4311683627247036\n",
            "Episode 1770: 2.3945514415740505\n",
            "Episode 1780: 0.7943109162779929\n",
            "Episode 1790: 4.262104987165258\n",
            "Episode 1800: 0.6857251954809955\n",
            "Episode 1810: 0.4581689840731537\n",
            "Episode 1820: 0.810539155901354\n",
            "Episode 1830: 1.240551776318431\n",
            "Episode 1840: 0.4597818275348057\n",
            "Episode 1850: 0.34859412864563893\n",
            "Episode 1860: 0.4154369938148932\n",
            "Episode 1870: 0.26572934057660735\n",
            "Episode 1880: 0.34408944751289117\n",
            "Episode 1890: 0.6745187269390888\n",
            "Episode 1900: 0.46389850532856103\n",
            "Episode 1910: 0.24177836472247846\n",
            "Episode 1920: 1.9846798671431891\n",
            "Episode 1930: 0.9483359359371204\n",
            "Episode 1940: 0.44942578900310876\n",
            "Episode 1950: 0.5743007345617237\n",
            "Episode 1960: 2.789091637442739\n",
            "Episode 1970: 0.31473874574136956\n",
            "Episode 1980: 0.18618972033118428\n",
            "Episode 1990: 0.2101930887546367\n"
          ]
        }
      ]
    },
    {
      "cell_type": "markdown",
      "source": [
        "# Evaluation"
      ],
      "metadata": {
        "id": "rHypf5az8O1q"
      }
    },
    {
      "cell_type": "code",
      "source": [
        "import matplotlib.pyplot as plt\n",
        "\n",
        "episodes = [i for i in range(max_episode) if i % 100 == 0]\n",
        "\n",
        "reward_per_hundred = [episode_rewards[i] for i in range(max_episode) if i % 100 == 0]\n",
        "\n",
        "plt.figure(figsize=(10, 15))\n",
        "plt.plot(episodes, reward_per_hundred)\n",
        "plt.title('Reward per 100 episodes')\n",
        "plt.xlabel(\"Episode\")\n",
        "plt.ylabel(\"Reward\")\n",
        "plt.show()"
      ],
      "metadata": {
        "id": "EAYa7J4l8SEh",
        "colab": {
          "base_uri": "https://localhost:8080/",
          "height": 893
        },
        "outputId": "aa206296-0690-4e46-a192-c2c4ec40b078"
      },
      "execution_count": null,
      "outputs": [
        {
          "output_type": "display_data",
          "data": {
            "text/plain": [
              "<Figure size 720x1080 with 1 Axes>"
            ],
            "image/png": "[encoded data removed]"
          },
          "metadata": {
            "needs_background": "light"
          }
        }
      ]
    },
    {
      "cell_type": "code",
      "source": [
        "episodes = [i for i in range(max_episode)]\n",
        "\n",
        "plt.figure(figsize=(10, 15))\n",
        "plt.plot(episodes, episode_rewards)\n",
        "plt.title('Reward per episode')\n",
        "plt.xlabel(\"Episode\")\n",
        "plt.ylabel(\"Reward\")\n",
        "plt.show()"
      ],
      "metadata": {
        "colab": {
          "base_uri": "https://localhost:8080/",
          "height": 893
        },
        "id": "y4K0lfgURpR7",
        "outputId": "40f7250e-ce00-4fef-d000-d0a4a88851ab"
      },
      "execution_count": null,
      "outputs": [
        {
          "output_type": "display_data",
          "data": {
            "text/plain": [
              "<Figure size 720x1080 with 1 Axes>"
            ],
            "image/png": "[encoded data removed]"
          },
          "metadata": {
            "needs_background": "light"
          }
        }
      ]
    }
  ]
}