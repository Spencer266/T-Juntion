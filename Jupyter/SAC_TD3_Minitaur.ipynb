{
  "nbformat": 4,
  "nbformat_minor": 0,
  "metadata": {
    "colab": {
      "name": "SAC_TD3_Minitaur.ipynb",
      "provenance": [],
      "collapsed_sections": [],
      "toc_visible": true
    },
    "kernelspec": {
      "name": "python3",
      "display_name": "Python 3"
    },
    "language_info": {
      "name": "python"
    },
    "accelerator": "GPU",
    "gpuClass": "standard"
  },
  "cells": [
    {
      "cell_type": "markdown",
      "source": [
        "# Install dependencies"
      ],
      "metadata": {
        "id": "iF0Qw_x06ZU3"
      }
    },
    {
      "cell_type": "code",
      "execution_count": null,
      "metadata": {
        "colab": {
          "base_uri": "https://localhost:8080/"
        },
        "id": "hlcSTDE4S6lB",
        "outputId": "83b530f9-31cd-492b-a1f0-3d1a570deb49"
      },
      "outputs": [
        {
          "output_type": "stream",
          "name": "stdout",
          "text": [
            "Looking in indexes: https://pypi.org/simple, https://us-python.pkg.dev/colab-wheels/public/simple/\n",
            "Collecting pybullet\n",
            "  Downloading pybullet-3.2.5-cp37-cp37m-manylinux_2_5_x86_64.manylinux1_x86_64.whl (91.7 MB)\n",
            "\u001b[K     |████████████████████████████████| 91.7 MB 21 kB/s \n",
            "\u001b[?25hInstalling collected packages: pybullet\n",
            "Successfully installed pybullet-3.2.5\n",
            "Looking in indexes: https://pypi.org/simple, https://us-python.pkg.dev/colab-wheels/public/simple/\n",
            "Collecting tf-agents[reverb]\n",
            "  Downloading tf_agents-0.13.0-py3-none-any.whl (1.3 MB)\n",
            "\u001b[K     |████████████████████████████████| 1.3 MB 8.2 MB/s \n",
            "\u001b[?25hRequirement already satisfied: absl-py>=0.6.1 in /usr/local/lib/python3.7/dist-packages (from tf-agents[reverb]) (1.1.0)\n",
            "Requirement already satisfied: gym<=0.23.0,>=0.17.0 in /usr/local/lib/python3.7/dist-packages (from tf-agents[reverb]) (0.17.3)\n",
            "Requirement already satisfied: tensorflow-probability>=0.16.0 in /usr/local/lib/python3.7/dist-packages (from tf-agents[reverb]) (0.16.0)\n",
            "Requirement already satisfied: gin-config>=0.4.0 in /usr/local/lib/python3.7/dist-packages (from tf-agents[reverb]) (0.5.0)\n",
            "Requirement already satisfied: six>=1.10.0 in /usr/local/lib/python3.7/dist-packages (from tf-agents[reverb]) (1.15.0)\n",
            "Requirement already satisfied: cloudpickle>=1.3 in /usr/local/lib/python3.7/dist-packages (from tf-agents[reverb]) (1.3.0)\n",
            "Collecting pygame==2.1.0\n",
            "  Downloading pygame-2.1.0-cp37-cp37m-manylinux_2_17_x86_64.manylinux2014_x86_64.whl (18.3 MB)\n",
            "\u001b[K     |████████████████████████████████| 18.3 MB 119 kB/s \n",
            "\u001b[?25hRequirement already satisfied: wrapt>=1.11.1 in /usr/local/lib/python3.7/dist-packages (from tf-agents[reverb]) (1.14.1)\n",
            "Requirement already satisfied: numpy>=1.13.3 in /usr/local/lib/python3.7/dist-packages (from tf-agents[reverb]) (1.21.6)\n",
            "Requirement already satisfied: typing-extensions>=3.7.4.3 in /usr/local/lib/python3.7/dist-packages (from tf-agents[reverb]) (4.1.1)\n",
            "Requirement already satisfied: protobuf>=3.11.3 in /usr/local/lib/python3.7/dist-packages (from tf-agents[reverb]) (3.17.3)\n",
            "Requirement already satisfied: pillow in /usr/local/lib/python3.7/dist-packages (from tf-agents[reverb]) (7.1.2)\n",
            "Collecting dm-reverb~=0.8.0\n",
            "  Downloading dm_reverb-0.8.0-cp37-cp37m-manylinux2014_x86_64.whl (6.5 MB)\n",
            "\u001b[K     |████████████████████████████████| 6.5 MB 17.8 MB/s \n",
            "\u001b[?25hCollecting rlds\n",
            "  Downloading rlds-0.1.4-py3-none-manylinux2010_x86_64.whl (37 kB)\n",
            "Collecting tensorflow~=2.9.0\n",
            "  Downloading tensorflow-2.9.1-cp37-cp37m-manylinux_2_17_x86_64.manylinux2014_x86_64.whl (511.7 MB)\n",
            "\u001b[K     |████████████████████████████████| 511.7 MB 6.4 kB/s \n",
            "\u001b[?25hRequirement already satisfied: dm-tree in /usr/local/lib/python3.7/dist-packages (from dm-reverb~=0.8.0->tf-agents[reverb]) (0.1.7)\n",
            "Requirement already satisfied: portpicker in /usr/local/lib/python3.7/dist-packages (from dm-reverb~=0.8.0->tf-agents[reverb]) (1.3.9)\n",
            "Requirement already satisfied: pyglet<=1.5.0,>=1.4.0 in /usr/local/lib/python3.7/dist-packages (from gym<=0.23.0,>=0.17.0->tf-agents[reverb]) (1.5.0)\n",
            "Requirement already satisfied: scipy in /usr/local/lib/python3.7/dist-packages (from gym<=0.23.0,>=0.17.0->tf-agents[reverb]) (1.4.1)\n",
            "Requirement already satisfied: future in /usr/local/lib/python3.7/dist-packages (from pyglet<=1.5.0,>=1.4.0->gym<=0.23.0,>=0.17.0->tf-agents[reverb]) (0.16.0)\n",
            "Requirement already satisfied: astunparse>=1.6.0 in /usr/local/lib/python3.7/dist-packages (from tensorflow~=2.9.0->tf-agents[reverb]) (1.6.3)\n",
            "Collecting keras<2.10.0,>=2.9.0rc0\n",
            "  Downloading keras-2.9.0-py2.py3-none-any.whl (1.6 MB)\n",
            "\u001b[K     |████████████████████████████████| 1.6 MB 49.4 MB/s \n",
            "\u001b[?25hRequirement already satisfied: libclang>=13.0.0 in /usr/local/lib/python3.7/dist-packages (from tensorflow~=2.9.0->tf-agents[reverb]) (14.0.1)\n",
            "Collecting tensorflow-estimator<2.10.0,>=2.9.0rc0\n",
            "  Downloading tensorflow_estimator-2.9.0-py2.py3-none-any.whl (438 kB)\n",
            "\u001b[K     |████████████████████████████████| 438 kB 75.3 MB/s \n",
            "\u001b[?25hRequirement already satisfied: opt-einsum>=2.3.2 in /usr/local/lib/python3.7/dist-packages (from tensorflow~=2.9.0->tf-agents[reverb]) (3.3.0)\n",
            "Requirement already satisfied: termcolor>=1.1.0 in /usr/local/lib/python3.7/dist-packages (from tensorflow~=2.9.0->tf-agents[reverb]) (1.1.0)\n",
            "Collecting tensorboard<2.10,>=2.9\n",
            "  Downloading tensorboard-2.9.1-py3-none-any.whl (5.8 MB)\n",
            "\u001b[K     |████████████████████████████████| 5.8 MB 53.1 MB/s \n",
            "\u001b[?25hRequirement already satisfied: google-pasta>=0.1.1 in /usr/local/lib/python3.7/dist-packages (from tensorflow~=2.9.0->tf-agents[reverb]) (0.2.0)\n",
            "Requirement already satisfied: setuptools in /usr/local/lib/python3.7/dist-packages (from tensorflow~=2.9.0->tf-agents[reverb]) (57.4.0)\n",
            "Requirement already satisfied: tensorflow-io-gcs-filesystem>=0.23.1 in /usr/local/lib/python3.7/dist-packages (from tensorflow~=2.9.0->tf-agents[reverb]) (0.26.0)\n",
            "Collecting gast<=0.4.0,>=0.2.1\n",
            "  Downloading gast-0.4.0-py3-none-any.whl (9.8 kB)\n",
            "Collecting flatbuffers<2,>=1.12\n",
            "  Downloading flatbuffers-1.12-py2.py3-none-any.whl (15 kB)\n",
            "Requirement already satisfied: h5py>=2.9.0 in /usr/local/lib/python3.7/dist-packages (from tensorflow~=2.9.0->tf-agents[reverb]) (3.1.0)\n",
            "Requirement already satisfied: packaging in /usr/local/lib/python3.7/dist-packages (from tensorflow~=2.9.0->tf-agents[reverb]) (21.3)\n",
            "Requirement already satisfied: keras-preprocessing>=1.1.1 in /usr/local/lib/python3.7/dist-packages (from tensorflow~=2.9.0->tf-agents[reverb]) (1.1.2)\n",
            "Requirement already satisfied: grpcio<2.0,>=1.24.3 in /usr/local/lib/python3.7/dist-packages (from tensorflow~=2.9.0->tf-agents[reverb]) (1.46.3)\n",
            "Requirement already satisfied: wheel<1.0,>=0.23.0 in /usr/local/lib/python3.7/dist-packages (from astunparse>=1.6.0->tensorflow~=2.9.0->tf-agents[reverb]) (0.37.1)\n",
            "Requirement already satisfied: cached-property in /usr/local/lib/python3.7/dist-packages (from h5py>=2.9.0->tensorflow~=2.9.0->tf-agents[reverb]) (1.5.2)\n",
            "Requirement already satisfied: google-auth<3,>=1.6.3 in /usr/local/lib/python3.7/dist-packages (from tensorboard<2.10,>=2.9->tensorflow~=2.9.0->tf-agents[reverb]) (1.35.0)\n",
            "Requirement already satisfied: tensorboard-plugin-wit>=1.6.0 in /usr/local/lib/python3.7/dist-packages (from tensorboard<2.10,>=2.9->tensorflow~=2.9.0->tf-agents[reverb]) (1.8.1)\n",
            "Requirement already satisfied: google-auth-oauthlib<0.5,>=0.4.1 in /usr/local/lib/python3.7/dist-packages (from tensorboard<2.10,>=2.9->tensorflow~=2.9.0->tf-agents[reverb]) (0.4.6)\n",
            "Requirement already satisfied: markdown>=2.6.8 in /usr/local/lib/python3.7/dist-packages (from tensorboard<2.10,>=2.9->tensorflow~=2.9.0->tf-agents[reverb]) (3.3.7)\n",
            "Requirement already satisfied: requests<3,>=2.21.0 in /usr/local/lib/python3.7/dist-packages (from tensorboard<2.10,>=2.9->tensorflow~=2.9.0->tf-agents[reverb]) (2.23.0)\n",
            "Requirement already satisfied: tensorboard-data-server<0.7.0,>=0.6.0 in /usr/local/lib/python3.7/dist-packages (from tensorboard<2.10,>=2.9->tensorflow~=2.9.0->tf-agents[reverb]) (0.6.1)\n",
            "Requirement already satisfied: werkzeug>=1.0.1 in /usr/local/lib/python3.7/dist-packages (from tensorboard<2.10,>=2.9->tensorflow~=2.9.0->tf-agents[reverb]) (1.0.1)\n",
            "Requirement already satisfied: rsa<5,>=3.1.4 in /usr/local/lib/python3.7/dist-packages (from google-auth<3,>=1.6.3->tensorboard<2.10,>=2.9->tensorflow~=2.9.0->tf-agents[reverb]) (4.8)\n",
            "Requirement already satisfied: pyasn1-modules>=0.2.1 in /usr/local/lib/python3.7/dist-packages (from google-auth<3,>=1.6.3->tensorboard<2.10,>=2.9->tensorflow~=2.9.0->tf-agents[reverb]) (0.2.8)\n",
            "Requirement already satisfied: cachetools<5.0,>=2.0.0 in /usr/local/lib/python3.7/dist-packages (from google-auth<3,>=1.6.3->tensorboard<2.10,>=2.9->tensorflow~=2.9.0->tf-agents[reverb]) (4.2.4)\n",
            "Requirement already satisfied: requests-oauthlib>=0.7.0 in /usr/local/lib/python3.7/dist-packages (from google-auth-oauthlib<0.5,>=0.4.1->tensorboard<2.10,>=2.9->tensorflow~=2.9.0->tf-agents[reverb]) (1.3.1)\n",
            "Requirement already satisfied: importlib-metadata>=4.4 in /usr/local/lib/python3.7/dist-packages (from markdown>=2.6.8->tensorboard<2.10,>=2.9->tensorflow~=2.9.0->tf-agents[reverb]) (4.11.4)\n",
            "Requirement already satisfied: zipp>=0.5 in /usr/local/lib/python3.7/dist-packages (from importlib-metadata>=4.4->markdown>=2.6.8->tensorboard<2.10,>=2.9->tensorflow~=2.9.0->tf-agents[reverb]) (3.8.0)\n",
            "Requirement already satisfied: pyasn1<0.5.0,>=0.4.6 in /usr/local/lib/python3.7/dist-packages (from pyasn1-modules>=0.2.1->google-auth<3,>=1.6.3->tensorboard<2.10,>=2.9->tensorflow~=2.9.0->tf-agents[reverb]) (0.4.8)\n",
            "Requirement already satisfied: chardet<4,>=3.0.2 in /usr/local/lib/python3.7/dist-packages (from requests<3,>=2.21.0->tensorboard<2.10,>=2.9->tensorflow~=2.9.0->tf-agents[reverb]) (3.0.4)\n",
            "Requirement already satisfied: idna<3,>=2.5 in /usr/local/lib/python3.7/dist-packages (from requests<3,>=2.21.0->tensorboard<2.10,>=2.9->tensorflow~=2.9.0->tf-agents[reverb]) (2.10)\n",
            "Requirement already satisfied: certifi>=2017.4.17 in /usr/local/lib/python3.7/dist-packages (from requests<3,>=2.21.0->tensorboard<2.10,>=2.9->tensorflow~=2.9.0->tf-agents[reverb]) (2022.6.15)\n",
            "Requirement already satisfied: urllib3!=1.25.0,!=1.25.1,<1.26,>=1.21.1 in /usr/local/lib/python3.7/dist-packages (from requests<3,>=2.21.0->tensorboard<2.10,>=2.9->tensorflow~=2.9.0->tf-agents[reverb]) (1.24.3)\n",
            "Requirement already satisfied: oauthlib>=3.0.0 in /usr/local/lib/python3.7/dist-packages (from requests-oauthlib>=0.7.0->google-auth-oauthlib<0.5,>=0.4.1->tensorboard<2.10,>=2.9->tensorflow~=2.9.0->tf-agents[reverb]) (3.2.0)\n",
            "Requirement already satisfied: decorator in /usr/local/lib/python3.7/dist-packages (from tensorflow-probability>=0.16.0->tf-agents[reverb]) (4.4.2)\n",
            "Requirement already satisfied: pyparsing!=3.0.5,>=2.0.2 in /usr/local/lib/python3.7/dist-packages (from packaging->tensorflow~=2.9.0->tf-agents[reverb]) (3.0.9)\n",
            "Installing collected packages: gast, tensorflow-estimator, tensorboard, pygame, keras, flatbuffers, tf-agents, tensorflow, rlds, dm-reverb\n",
            "  Attempting uninstall: gast\n",
            "    Found existing installation: gast 0.5.3\n",
            "    Uninstalling gast-0.5.3:\n",
            "      Successfully uninstalled gast-0.5.3\n",
            "  Attempting uninstall: tensorflow-estimator\n",
            "    Found existing installation: tensorflow-estimator 2.8.0\n",
            "    Uninstalling tensorflow-estimator-2.8.0:\n",
            "      Successfully uninstalled tensorflow-estimator-2.8.0\n",
            "  Attempting uninstall: tensorboard\n",
            "    Found existing installation: tensorboard 2.8.0\n",
            "    Uninstalling tensorboard-2.8.0:\n",
            "      Successfully uninstalled tensorboard-2.8.0\n",
            "  Attempting uninstall: keras\n",
            "    Found existing installation: keras 2.8.0\n",
            "    Uninstalling keras-2.8.0:\n",
            "      Successfully uninstalled keras-2.8.0\n",
            "  Attempting uninstall: flatbuffers\n",
            "    Found existing installation: flatbuffers 2.0\n",
            "    Uninstalling flatbuffers-2.0:\n",
            "      Successfully uninstalled flatbuffers-2.0\n",
            "  Attempting uninstall: tensorflow\n",
            "    Found existing installation: tensorflow 2.8.2+zzzcolab20220527125636\n",
            "    Uninstalling tensorflow-2.8.2+zzzcolab20220527125636:\n",
            "      Successfully uninstalled tensorflow-2.8.2+zzzcolab20220527125636\n",
            "Successfully installed dm-reverb-0.8.0 flatbuffers-1.12 gast-0.4.0 keras-2.9.0 pygame-2.1.0 rlds-0.1.4 tensorboard-2.9.1 tensorflow-2.9.1 tensorflow-estimator-2.9.0 tf-agents-0.13.0\n",
            "Looking in indexes: https://pypi.org/simple, https://us-python.pkg.dev/colab-wheels/public/simple/\n",
            "Collecting gym==0.23.0\n",
            "  Downloading gym-0.23.0.tar.gz (624 kB)\n",
            "\u001b[K     |████████████████████████████████| 624 kB 8.3 MB/s \n",
            "\u001b[?25h  Installing build dependencies ... \u001b[?25l\u001b[?25hdone\n",
            "  Getting requirements to build wheel ... \u001b[?25l\u001b[?25hdone\n",
            "    Preparing wheel metadata ... \u001b[?25l\u001b[?25hdone\n",
            "Requirement already satisfied: importlib-metadata>=4.10.0 in /usr/local/lib/python3.7/dist-packages (from gym==0.23.0) (4.11.4)\n",
            "Collecting gym-notices>=0.0.4\n",
            "  Downloading gym_notices-0.0.7-py3-none-any.whl (2.7 kB)\n",
            "Requirement already satisfied: numpy>=1.18.0 in /usr/local/lib/python3.7/dist-packages (from gym==0.23.0) (1.21.6)\n",
            "Requirement already satisfied: cloudpickle>=1.2.0 in /usr/local/lib/python3.7/dist-packages (from gym==0.23.0) (1.3.0)\n",
            "Requirement already satisfied: zipp>=0.5 in /usr/local/lib/python3.7/dist-packages (from importlib-metadata>=4.10.0->gym==0.23.0) (3.8.0)\n",
            "Requirement already satisfied: typing-extensions>=3.6.4 in /usr/local/lib/python3.7/dist-packages (from importlib-metadata>=4.10.0->gym==0.23.0) (4.1.1)\n",
            "Building wheels for collected packages: gym\n",
            "  Building wheel for gym (PEP 517) ... \u001b[?25l\u001b[?25hdone\n",
            "  Created wheel for gym: filename=gym-0.23.0-py3-none-any.whl size=697659 sha256=a12760b73286dc9f2e262dab1a6c7b82b9e7a90377ad92f8f3dca4babaabd9c8\n",
            "  Stored in directory: /root/.cache/pip/wheels/f0/7e/16/4d727df048fdb96518ec5c02266e55b98bc398837353852a6a\n",
            "Successfully built gym\n",
            "Installing collected packages: gym-notices, gym\n",
            "  Attempting uninstall: gym\n",
            "    Found existing installation: gym 0.17.3\n",
            "    Uninstalling gym-0.17.3:\n",
            "      Successfully uninstalled gym-0.17.3\n",
            "Successfully installed gym-0.23.0 gym-notices-0.0.7\n"
          ]
        }
      ],
      "source": [
        "!pip install -U pybullet\n",
        "!pip install -U tf-agents[reverb]\n",
        "!pip install -U gym==0.23.0"
      ]
    },
    {
      "cell_type": "code",
      "source": [
        "import gym\n",
        "import random\n",
        "import PIL.Image\n",
        "import pybullet_envs\n",
        "import pybullet_envs.bullet as bul\n",
        "from tf_agents.environments import suite_pybullet\n",
        "import numpy as np\n",
        "import torch\n",
        "import torch.nn as nn\n",
        "import torch.nn.functional as F\n",
        "from torch.distributions import Normal\n",
        "from torch.optim import Adam\n",
        "from collections import deque"
      ],
      "metadata": {
        "id": "yloM9FGLVSAL",
        "colab": {
          "base_uri": "https://localhost:8080/"
        },
        "outputId": "cae26adf-1654-4390-a036-2fad25ca2939"
      },
      "execution_count": null,
      "outputs": [
        {
          "output_type": "stream",
          "name": "stdout",
          "text": [
            "current_dir=/usr/local/lib/python3.7/dist-packages/pybullet_envs/bullet\n"
          ]
        }
      ]
    },
    {
      "cell_type": "markdown",
      "source": [
        "# Display Environment"
      ],
      "metadata": {
        "id": "CnQHqN7CW23O"
      }
    },
    {
      "cell_type": "code",
      "source": [
        "env_name = \"MinitaurBulletEnv-v0\"\n",
        "\n",
        "env = suite_pybullet.load(env_name)\n",
        "env.reset()\n",
        "PIL.Image.fromarray(env.render())"
      ],
      "metadata": {
        "id": "wGhDpdbqW5pw",
        "colab": {
          "base_uri": "https://localhost:8080/",
          "height": 791
        },
        "outputId": "eab37a22-71c1-4b70-da22-e5beb1b3e821"
      },
      "execution_count": null,
      "outputs": [
        {
          "output_type": "stream",
          "name": "stdout",
          "text": [
            "urdf_root=/usr/local/lib/python3.7/dist-packages/pybullet_data\n"
          ]
        },
        {
          "output_type": "stream",
          "name": "stderr",
          "text": [
            "/usr/local/lib/python3.7/dist-packages/gym/spaces/box.py:84: UserWarning: \u001b[33mWARN: Box bound precision lowered by casting to float32\u001b[0m\n",
            "  logger.warn(f\"Box bound precision lowered by casting to {self.dtype}\")\n"
          ]
        },
        {
          "output_type": "execute_result",
          "data": {
            "text/plain": [
              "<PIL.Image.Image image mode=RGB size=960x720 at 0x7F41D4059C10>"
            ],
            "image/png": "[encoded data removed]"
          },
          "metadata": {},
          "execution_count": 3
        }
      ]
    },
    {
      "cell_type": "markdown",
      "source": [
        "# Ultility "
      ],
      "metadata": {
        "id": "VHufbJ27erCr"
      }
    },
    {
      "cell_type": "code",
      "source": [
        "class NormalizedActions(gym.ActionWrapper):\n",
        "    def action(self, action):\n",
        "        low_bound   = self.action_space.low\n",
        "        upper_bound = self.action_space.high\n",
        "\n",
        "        action = low_bound + (action + 1.0) * 0.5 * (upper_bound - low_bound)\n",
        "        action = np.clip(action, low_bound, upper_bound)\n",
        "\n",
        "        return action\n",
        "\n",
        "    def reverse_action(self, action):\n",
        "        low_bound   = self.action_space.low\n",
        "        upper_bound = self.action_space.high\n",
        "\n",
        "        action = 2 * (action - low_bound) / (upper_bound - low_bound) - 1\n",
        "        action = np.clip(action, low_bound, upper_bound)\n",
        "\n",
        "        return action"
      ],
      "metadata": {
        "id": "fwr9xKMueqQe"
      },
      "execution_count": null,
      "outputs": []
    },
    {
      "cell_type": "markdown",
      "source": [
        "# Initialize ReplayBuffer, Actor, Critic Network"
      ],
      "metadata": {
        "id": "1Dvi5GDS6kck"
      }
    },
    {
      "cell_type": "markdown",
      "source": [
        "## Replay Buffer"
      ],
      "metadata": {
        "id": "i9QgySKiB7BJ"
      }
    },
    {
      "cell_type": "code",
      "source": [
        "class ReplayBuffer:\n",
        "  def __init__(self, capacity):\n",
        "    self.capacity = capacity\n",
        "    self.buffer = deque(maxlen=capacity)\n",
        "\n",
        "  def push(self, state, action, reward, next_state, done):\n",
        "    experience = (state, action, np.array([reward]), next_state, done)\n",
        "    self.buffer.append(experience)\n",
        "\n",
        "  def sample(self, batch_size):\n",
        "    state_batch = []\n",
        "    action_batch = []\n",
        "    reward_batch = []\n",
        "    next_state_batch = []\n",
        "    done_batch = []\n",
        "\n",
        "    batch = random.sample(self.buffer, batch_size)\n",
        "\n",
        "    for experience in batch:\n",
        "      state, action, reward, next_state, done = experience\n",
        "      state_batch.append(state)\n",
        "      action_batch.append(action)\n",
        "      reward_batch.append(reward)\n",
        "      next_state_batch.append(next_state)\n",
        "      done_batch.append(done)\n",
        "\n",
        "    return (state_batch, action_batch, reward_batch, next_state_batch, done_batch)\n",
        "\n",
        "  def __len__(self):\n",
        "    return len(self.buffer)"
      ],
      "metadata": {
        "id": "605CsRl1i16U"
      },
      "execution_count": null,
      "outputs": []
    },
    {
      "cell_type": "markdown",
      "source": [
        "## Soft Q Network as Critic"
      ],
      "metadata": {
        "id": "lskGNTWSCFOi"
      }
    },
    {
      "cell_type": "code",
      "source": [
        "## Act as Critic\n",
        "class QNetwork(nn.Module):\n",
        "  def __init__(self, num_inputs, num_actions, hidden_dim=256, init_w=3e-3):\n",
        "    super(QNetwork, self).__init__()\n",
        "    self.linear1 = nn.Linear(num_inputs + num_actions, hidden_dim)\n",
        "    self.linear2 = nn.Linear(hidden_dim, hidden_dim)\n",
        "    self.linear3 = nn.Linear(hidden_dim, 1)\n",
        "\n",
        "    self.linear3.weight.data.uniform_(-init_w, init_w)\n",
        "    self.linear3.bias.data.uniform_(-init_w, init_w)\n",
        "\n",
        "  def forward(self, state, action):\n",
        "    x = torch.cat([state, action], 1)\n",
        "    x = F.relu(self.linear1(x))\n",
        "    x = F.relu(self.linear2(x))\n",
        "    x = self.linear3(x)\n",
        "    return x"
      ],
      "metadata": {
        "id": "v77KWlz-9FC7"
      },
      "execution_count": null,
      "outputs": []
    },
    {
      "cell_type": "markdown",
      "source": [
        "## Policy - Actor Network"
      ],
      "metadata": {
        "id": "XxRbYsiKCLgs"
      }
    },
    {
      "cell_type": "code",
      "source": [
        "## Act as Actor\n",
        "class PolicyNetwork(nn.Module):\n",
        "  def __init__(self, num_inputs, num_actions, hidden_dim=256, init_w=3e-3, log_std_min=-20, log_std_max=2):\n",
        "    super(PolicyNetwork, self).__init__()\n",
        "    self.log_std_min = log_std_min\n",
        "    self.log_std_max = log_std_max\n",
        "\n",
        "    self.linear1 = nn.Linear(num_inputs, hidden_dim)\n",
        "    self.linear2 = nn.Linear(hidden_dim, hidden_dim)\n",
        "\n",
        "    self.mean_linear = nn.Linear(hidden_dim, num_actions)\n",
        "    self.mean_linear.weight.data.uniform_(-init_w, init_w)\n",
        "    self.mean_linear.bias.data.uniform_(-init_w, init_w)\n",
        "\n",
        "    self.log_std_linear = nn.Linear(hidden_dim, num_actions)\n",
        "    self.log_std_linear.weight.data.uniform_(-init_w, init_w)\n",
        "    self.log_std_linear.bias.data.uniform_(-init_w, init_w)\n",
        "\n",
        "    self.action_scale = torch.tensor(1.)\n",
        "    self.action_bias = torch.tensor(0.)\n",
        "\n",
        "  def forward(self, state):\n",
        "    x = F.relu(self.linear1(state))\n",
        "    x = F.relu(self.linear2(x))\n",
        "\n",
        "    mean = self.mean_linear(x)\n",
        "    log_std = self.log_std_linear(x)\n",
        "    log_std = torch.clamp(log_std, min=self.log_std_min, max=self.log_std_max)\n",
        "\n",
        "    return mean, log_std\n",
        "\n",
        "  def sample(self, state, epsilon=1e-6):\n",
        "    mean, log_std = self.forward(state)\n",
        "    std = log_std.exp()\n",
        "\n",
        "    normal = Normal(mean, std)\n",
        "    z = normal.rsample()            # Reparameterization (mean + std * N(0,1))\n",
        "    action = torch.tanh(z)\n",
        "    action = action * self.action_scale + self.action_bias\n",
        "\n",
        "    # Enforcing action bound\n",
        "    log_pi = normal.log_prob(z) - torch.log(1 - action.pow(2) + epsilon)\n",
        "    log_pi = log_pi.sum(1, keepdim=True)\n",
        "    mean = torch.tanh(mean) * self.action_scale + self.action_bias\n",
        "\n",
        "    return action, log_pi, mean\n",
        "\n",
        "    def to(self, device):\n",
        "      self.action_scale = self.action_scale.to(device)\n",
        "      self.action_bias = self.action_bias.to(device)\n",
        "      return super(PolicyNetwork, self).to(device)"
      ],
      "metadata": {
        "id": "Oy7frXQDjJyY"
      },
      "execution_count": null,
      "outputs": []
    },
    {
      "cell_type": "markdown",
      "source": [
        "## Initialize SAC Agent"
      ],
      "metadata": {
        "id": "0bPtp8LjCSAD"
      }
    },
    {
      "cell_type": "code",
      "source": [
        "class SACAgent:\n",
        "  def __init__(self, env, gamma, tau, alpha, q_lr, policy_lr, a_lr, delay_step, noise_std, noise_bound, buffer_maxlen):\n",
        "    self.device = torch.device(\"cuda\" if torch.cuda.is_available() else \"cpu\")\n",
        "\n",
        "    self.env = env\n",
        "    self.action_range = [env.action_space.low, env.action_space.high]\n",
        "\n",
        "    # Hyperparameter\n",
        "    self.gamma = gamma    ## Discount rate\n",
        "    self.tau = tau      \n",
        "    self.update_step = 0\n",
        "    self.delay_step = delay_step\n",
        "\n",
        "    self.noise_std = noise_std\n",
        "    self.noise_bound = noise_bound\n",
        "\n",
        "    # Init network\n",
        "    ## Critic Net\n",
        "    self.q_net1 = QNetwork(env.observation_space.shape[0], env.action_space.shape[0]).to(self.device)\n",
        "    self.q_net2 = QNetwork(env.observation_space.shape[0], env.action_space.shape[0]).to(self.device)\n",
        "\n",
        "    ## Actor Net\n",
        "    self.policy_net = PolicyNetwork(env.observation_space.shape[0], env.action_space.shape[0]).to(self.device)\n",
        "\n",
        "    ## Target Net\n",
        "    self.target_net1 = QNetwork(env.observation_space.shape[0], env.action_space.shape[0]).to(self.device)\n",
        "    self.target_net2 = QNetwork(env.observation_space.shape[0], env.action_space.shape[0]).to(self.device)\n",
        "\n",
        "    # Copy params to target\n",
        "    for target_param, param in zip(self.target_net1.parameters(), self.q_net1.parameters()):\n",
        "      target_param.data.copy_(param.data)\n",
        "\n",
        "    for target_param, param in zip(self.target_net2.parameters(), self.q_net2.parameters()):\n",
        "      target_param.data.copy_(param.data)\n",
        "\n",
        "    # Init optimizers\n",
        "    self.q1_optimizer = Adam(self.q_net1.parameters(), lr=q_lr)\n",
        "    self.q2_optimizer = Adam(self.q_net2.parameters(), lr=q_lr)\n",
        "    self.policy_optimizer = Adam(self.policy_net.parameters(), lr=policy_lr)\n",
        "\n",
        "    # Entropy\n",
        "    self.alpha = alpha    ## Tempature param\n",
        "    self.target_entropy = -torch.prod(torch.Tensor(self.env.action_space.shape).to(self.device)).item()\n",
        "    self.log_alpha = torch.zeros(1, requires_grad=True, device=self.device)\n",
        "    self.alpha_optim = Adam([self.log_alpha], lr=a_lr)\n",
        "\n",
        "    # ReplayBuffer\n",
        "    self.replay_buffer = ReplayBuffer(buffer_maxlen)\n",
        "\n",
        "  def rescale_action(self, action):\n",
        "    return action * (self.action_range[1] - self.action_range[0]) / 2.0 + (self.action_range[1] + self.action_range[0]) / 2.0\n",
        "\n",
        "  # From TD3  \n",
        "  def generate_action_space_noise(self, action_batch):\n",
        "    noise = torch.normal(torch.zeros(action_batch.size()), self.noise_std).clamp(-self.noise_bound, self.noise_bound).to(self.device)\n",
        "    return noise\n",
        "\n",
        "  def get_action(self, state):\n",
        "    state = torch.FloatTensor(state).to(self.device).unsqueeze(0)\n",
        "    mean, log_std = self.policy_net.forward(state)\n",
        "    std = log_std.exp()\n",
        "\n",
        "    normal = Normal(mean, std)\n",
        "    z = normal.sample()\n",
        "    action = torch.tanh(z)\n",
        "    action = action.cpu().detach().squeeze(0).numpy()\n",
        "\n",
        "    return self.rescale_action(action)\n",
        "\n",
        "  def update(self, batch_size):\n",
        "    states, actions, rewards, next_states, dones = self.replay_buffer.sample(batch_size)\n",
        "\n",
        "    states = torch.FloatTensor(states).to(self.device)\n",
        "    actions = torch.FloatTensor(actions).to(self.device)\n",
        "    rewards = torch.FloatTensor(rewards).to(self.device)\n",
        "    next_states = torch.FloatTensor(next_states).to(self.device)\n",
        "    dones = torch.FloatTensor(dones).to(self.device)\n",
        "    dones = dones.view(dones.size(0), -1)\n",
        "\n",
        "    action_space_noise = self.generate_action_space_noise(actions)\n",
        "\n",
        "    next_actions, next_log_pi, _ = self.policy_net.sample(next_states)\n",
        "    next_actions = next_actions + action_space_noise\n",
        "    next_q1 = self.target_net1(next_states, next_actions)\n",
        "    next_q2 = self.target_net2(next_states, next_actions)\n",
        "    next_q_target = torch.min(next_q1, next_q2) - self.alpha * next_log_pi\n",
        "    expected_q = rewards + (1 - dones) * self.gamma * next_q_target\n",
        "\n",
        "    # Calculate q loss\n",
        "    curr_q1 = self.q_net1.forward(states, actions)\n",
        "    curr_q2 = self.q_net2.forward(states, actions)\n",
        "    q1_loss = F.mse_loss(curr_q1, expected_q.detach())\n",
        "    q2_loss = F.mse_loss(curr_q2, expected_q.detach())\n",
        "\n",
        "    # Update Q networks\n",
        "    self.q1_optimizer.zero_grad()\n",
        "    q1_loss.backward()\n",
        "    self.q1_optimizer.step()\n",
        "\n",
        "    self.q2_optimizer.zero_grad()\n",
        "    q2_loss.backward()\n",
        "    self.q2_optimizer.step()\n",
        "\n",
        "    # Delayed update for policy network and target q network\n",
        "    new_actions, log_pi, _ = self.policy_net.sample(states)\n",
        "    if self.update_step % self.delay_step == 0:\n",
        "      min_q = torch.min(self.q_net1.forward(states, new_actions), \n",
        "                        self.q_net2.forward(states, new_actions))\n",
        "      policy_loss = (self.alpha * log_pi - min_q).mean()\n",
        "      \n",
        "      self.policy_optimizer.zero_grad()\n",
        "      policy_loss.backward()\n",
        "      self.policy_optimizer.step()\n",
        "\n",
        "      # Target network\n",
        "      for target_param, param in zip(self.target_net1.parameters(), self.q_net1.parameters()):\n",
        "        target_param.data.copy_(self.tau * param.data + (1 - self.tau) * target_param.data)\n",
        "\n",
        "      for target_param, param in zip(self.target_net2.parameters(), self.q_net2.parameters()):\n",
        "        target_param.data.copy_(self.tau * param.data + (1 - self.tau) * target_param.data)\n",
        "\n",
        "    # Update tempature\n",
        "    alpha_loss = (self.log_alpha * (-log_pi - self.target_entropy).detach()).mean()\n",
        "\n",
        "    self.alpha_optim.zero_grad()\n",
        "    alpha_loss.backward()\n",
        "    self.alpha_optim.step()\n",
        "    self.alpha = self.log_alpha.exp()\n",
        "\n",
        "    self.update_step += 1"
      ],
      "metadata": {
        "id": "GJZ5NskKkaBT"
      },
      "execution_count": null,
      "outputs": []
    },
    {
      "cell_type": "markdown",
      "source": [
        "# Training"
      ],
      "metadata": {
        "id": "jYYMq4Z760bV"
      }
    },
    {
      "cell_type": "code",
      "source": [
        "def sac_train(env, agent, max_episode, max_step, batch_size):\n",
        "  episode_rewards = []\n",
        "  update_step = 0\n",
        "\n",
        "  for episode in range(max_episode):\n",
        "    state = env.reset()\n",
        "    episode_reward = 0\n",
        "\n",
        "    for step in range(max_step):\n",
        "      action = agent.get_action(state)\n",
        "      next_state, reward, done, _ = env.step(action)\n",
        "      agent.replay_buffer.push(state, action, reward, next_state, done)\n",
        "      episode_reward += reward\n",
        "\n",
        "      if len(agent.replay_buffer) > batch_size:\n",
        "        agent.update(batch_size)\n",
        "        update_step += 1\n",
        "\n",
        "      if done or step == max_step - 1:\n",
        "        episode_rewards.append(episode_reward)\n",
        "        break\n",
        "      \n",
        "      state = next_state\n",
        "    if episode % 10 == 0:\n",
        "      print(\"Episode \" + str(episode) + \": \" + str(episode_reward))\n",
        "\n",
        "  return episode_rewards"
      ],
      "metadata": {
        "id": "urPsxWA9k--8"
      },
      "execution_count": null,
      "outputs": []
    },
    {
      "cell_type": "code",
      "source": [
        "env = gym.make(env_name)\n",
        "\n",
        "gamma = 0.99\n",
        "tau = 0.01\n",
        "alpha = 0.2\n",
        "a_lr = 3e-4\n",
        "q_lr = 3e-4\n",
        "p_lr = 3e-4\n",
        "noise_std = 0.2\n",
        "noise_bound = 0.5\n",
        "delay_step = 2\n",
        "buffer_maxlen = 1000000\n",
        "\n",
        "max_episode = 3000\n",
        "\n",
        "agent = SACAgent(env, gamma, tau, alpha, q_lr, p_lr, a_lr, delay_step, noise_std, noise_bound, buffer_maxlen)\n",
        "\n",
        "episode_rewards = sac_train(env, agent, max_episode, 500, 64)"
      ],
      "metadata": {
        "colab": {
          "base_uri": "https://localhost:8080/"
        },
        "id": "lKqa7F_QShJS",
        "outputId": "2e3d5e88-8e8c-43b5-fd57-fc555ec547bf"
      },
      "execution_count": null,
      "outputs": [
        {
          "metadata": {
            "tags": null
          },
          "name": "stdout",
          "output_type": "stream",
          "text": [
            "urdf_root=/usr/local/lib/python3.7/dist-packages/pybullet_data\n"
          ]
        },
        {
          "metadata": {
            "tags": null
          },
          "name": "stderr",
          "output_type": "stream",
          "text": [
            "/usr/local/lib/python3.7/dist-packages/gym/spaces/box.py:84: UserWarning: \u001b[33mWARN: Box bound precision lowered by casting to float32\u001b[0m\n",
            "  logger.warn(f\"Box bound precision lowered by casting to {self.dtype}\")\n",
            "/usr/local/lib/python3.7/dist-packages/ipykernel_launcher.py:73: UserWarning: Creating a tensor from a list of numpy.ndarrays is extremely slow. Please consider converting the list to a single numpy.ndarray with numpy.array() before converting to a tensor. (Triggered internally at  ../torch/csrc/utils/tensor_new.cpp:210.)\n"
          ]
        },
        {
          "metadata": {
            "tags": null
          },
          "name": "stdout",
          "output_type": "stream",
          "text": [
            "Episode 0: -0.9924712654624859\n"
          ]
        },
        {
          "metadata": {
            "tags": null
          },
          "name": "stderr",
          "output_type": "stream",
          "text": [
            "/usr/local/lib/python3.7/dist-packages/ipykernel_launcher.py:77: DeprecationWarning: In future, it will be an error for 'np.bool_' scalars to be interpreted as an index\n"
          ]
        },
        {
          "output_type": "stream",
          "name": "stdout",
          "text": [
            "Episode 10: -0.062379814186537146\n",
            "Episode 20: -0.8043489461414587\n",
            "Episode 30: 0.12199832867808583\n",
            "Episode 40: 0.219951149758501\n",
            "Episode 50: -0.2332786331644987\n",
            "Episode 60: -0.05195807266135718\n",
            "Episode 70: 0.3928845176817566\n",
            "Episode 80: 0.16407386402524737\n",
            "Episode 90: -0.352940874389412\n",
            "Episode 100: 0.05163966639077152\n",
            "Episode 110: -0.28299144582814656\n",
            "Episode 120: -0.14994797117083897\n",
            "Episode 130: -0.6242747722852816\n",
            "Episode 140: -0.11739987631268185\n",
            "Episode 150: 0.03177220306660872\n",
            "Episode 160: -0.7568682822047282\n",
            "Episode 170: 0.14755844550623223\n",
            "Episode 180: -0.13757547075967386\n",
            "Episode 190: -0.4690335091618462\n",
            "Episode 200: -0.15461544536041202\n",
            "Episode 210: -0.09703201043531627\n",
            "Episode 220: -1.0993368084459194\n",
            "Episode 230: -0.19990402294681156\n",
            "Episode 240: -0.797750409099499\n",
            "Episode 250: -0.06436215721517351\n",
            "Episode 260: 0.12003713904200465\n",
            "Episode 270: 0.025859520489072425\n",
            "Episode 280: 0.06519463767424724\n",
            "Episode 290: -0.08316897608286285\n",
            "Episode 300: 0.026187644336605954\n",
            "Episode 310: 0.011363572894620835\n",
            "Episode 320: 0.22364743887687147\n",
            "Episode 330: 0.13106326734664353\n",
            "Episode 340: 0.3459953385729898\n",
            "Episode 350: 0.15306873258840295\n",
            "Episode 360: 0.1323113086698097\n",
            "Episode 370: 0.10637018199347424\n",
            "Episode 380: 0.13890945298959942\n",
            "Episode 390: 0.2152097889952329\n",
            "Episode 400: 0.15837226037742244\n",
            "Episode 410: 0.19737668691852447\n",
            "Episode 420: 0.18836519691179313\n",
            "Episode 430: 0.34819448054061886\n",
            "Episode 440: 0.19483446165226911\n",
            "Episode 450: 0.06534810409304283\n",
            "Episode 460: 0.11010991085726096\n",
            "Episode 470: 0.17888159806639212\n",
            "Episode 480: 0.2184005295533507\n",
            "Episode 490: 0.20578266391091712\n",
            "Episode 500: 0.16792202438500414\n",
            "Episode 510: 0.28482849038867014\n",
            "Episode 520: 0.20031124640955852\n",
            "Episode 530: 0.2041945131302261\n",
            "Episode 540: 0.18126117516796442\n",
            "Episode 550: 0.12417415311312571\n",
            "Episode 560: 0.9701620088364717\n",
            "Episode 570: 0.2350500148037327\n",
            "Episode 580: 0.6493751793999131\n",
            "Episode 590: 0.042858411239514387\n",
            "Episode 600: 0.08605099536029444\n",
            "Episode 610: 0.13284876850514826\n",
            "Episode 620: 0.23398285626020848\n",
            "Episode 630: 0.5809816150635062\n",
            "Episode 640: 0.08683249427845639\n",
            "Episode 650: 0.08157437783839591\n",
            "Episode 660: 0.13151989739951966\n",
            "Episode 670: 0.13477497018845147\n",
            "Episode 680: 0.10012664684490159\n",
            "Episode 690: 0.08940534591415875\n",
            "Episode 700: 0.07576117945686348\n",
            "Episode 710: 0.08829147778242742\n",
            "Episode 720: 0.2061851557027286\n",
            "Episode 730: 0.10005882342077278\n",
            "Episode 740: 0.14499135013459186\n",
            "Episode 750: 0.1533998267248884\n",
            "Episode 760: 0.6237582999000165\n",
            "Episode 770: 0.42873116920877347\n",
            "Episode 780: 0.17628097670831486\n",
            "Episode 790: 0.4000167794891063\n",
            "Episode 800: 0.11247501388446525\n",
            "Episode 810: 0.3165121937804074\n",
            "Episode 820: 0.27583624518835564\n",
            "Episode 830: 0.2300213036307705\n",
            "Episode 840: 0.1687814683928774\n",
            "Episode 850: 0.18739102984871497\n",
            "Episode 860: 1.1515348267368728\n",
            "Episode 870: 0.22491801658919083\n",
            "Episode 880: 0.2927650535552909\n",
            "Episode 890: 0.37779013883750295\n",
            "Episode 900: 0.27570489521583885\n",
            "Episode 910: 0.34599344673699645\n",
            "Episode 920: 0.2780731798324121\n",
            "Episode 930: 0.10972619817281344\n",
            "Episode 940: 0.660072163669113\n",
            "Episode 950: 0.168617074504381\n",
            "Episode 960: 0.8215630438540542\n",
            "Episode 970: 0.41107618307477856\n",
            "Episode 980: 0.41186359545886303\n",
            "Episode 990: 1.0531800175888235\n",
            "Episode 1000: 0.40685616964366156\n",
            "Episode 1010: 1.3675072134929187\n",
            "Episode 1020: 0.6648882722918138\n",
            "Episode 1030: 0.4390703452016474\n",
            "Episode 1040: 1.9720598971626098\n",
            "Episode 1050: 0.2821944457709729\n",
            "Episode 1060: 0.9363532511620059\n",
            "Episode 1070: 0.26838927266022083\n",
            "Episode 1080: 0.23256778163414024\n",
            "Episode 1090: 0.4101750533937059\n",
            "Episode 1100: 0.4087617815096395\n",
            "Episode 1110: 0.46438965905059726\n",
            "Episode 1120: 0.42007290304846334\n",
            "Episode 1130: 0.2923182403959369\n",
            "Episode 1140: 0.19851921114671256\n",
            "Episode 1150: 0.6831931274623695\n",
            "Episode 1160: 0.4808701187620837\n",
            "Episode 1170: 0.3361265185752227\n",
            "Episode 1180: 0.3498362487437795\n",
            "Episode 1190: 0.40721668489221097\n",
            "Episode 1200: 1.9214547519538834\n",
            "Episode 1210: 1.527024868685334\n",
            "Episode 1220: 0.49441837565303653\n",
            "Episode 1230: 0.21120872167029275\n",
            "Episode 1240: 0.9546982617357493\n",
            "Episode 1250: 2.1900294775256186\n",
            "Episode 1260: 0.8469778552790979\n",
            "Episode 1270: 1.5507439523399917\n",
            "Episode 1280: 0.2855192723198627\n",
            "Episode 1290: 2.0587105548773885\n",
            "Episode 1300: 1.4263599186898126\n",
            "Episode 1310: 1.589934432675932\n",
            "Episode 1320: 2.44894789338117\n",
            "Episode 1330: 2.3363958767362414\n",
            "Episode 1340: 2.5014896486508214\n",
            "Episode 1350: 1.5299871588238099\n",
            "Episode 1360: 0.9725161514149423\n",
            "Episode 1370: 1.0651892724891279\n",
            "Episode 1380: 0.5443492089591561\n",
            "Episode 1390: 2.256901458574855\n",
            "Episode 1400: 2.7355114416206114\n",
            "Episode 1410: 0.5570685776276852\n",
            "Episode 1420: 1.8214034104032046\n",
            "Episode 1430: 2.8978226115801573\n",
            "Episode 1440: 1.8889114303935859\n",
            "Episode 1450: 2.1126219758301694\n",
            "Episode 1460: 2.5007093707462227\n",
            "Episode 1470: 0.2727845728574074\n",
            "Episode 1480: 2.6562522652116685\n",
            "Episode 1490: 0.194322829729883\n",
            "Episode 1500: 2.2289065385888387\n",
            "Episode 1510: 0.21685054511869714\n",
            "Episode 1520: 2.479060186281005\n",
            "Episode 1530: 3.5150944433296267\n",
            "Episode 1540: 3.2784272685916998\n",
            "Episode 1550: 3.302184517573925\n",
            "Episode 1560: 3.107306362513311\n",
            "Episode 1570: 1.4082323496992906\n",
            "Episode 1580: 1.8754876332715504\n",
            "Episode 1590: 1.3794452005144429\n",
            "Episode 1600: 0.22174886431982613\n",
            "Episode 1610: 1.8771624341243023\n",
            "Episode 1620: 2.251047551808622\n",
            "Episode 1630: 2.4818681332772603\n",
            "Episode 1640: 3.119793757866739\n",
            "Episode 1650: 0.5510636080965546\n"
          ]
        }
      ]
    },
    {
      "cell_type": "markdown",
      "source": [
        "# Evaluation"
      ],
      "metadata": {
        "id": "rHypf5az8O1q"
      }
    },
    {
      "cell_type": "code",
      "source": [
        "import matplotlib.pyplot as plt\n",
        "\n",
        "episodes = [i for i in range(max_episode) if i % 100 == 0]\n",
        "\n",
        "reward_per_hundred = [episode_rewards[i] for i in range(max_episode) if i % 100 == 0]\n",
        "\n",
        "plt.figure(figsize=(10, 15))\n",
        "plt.plot(episodes, reward_per_hundred)\n",
        "plt.title('Reward per 100 episodes')\n",
        "plt.xlabel(\"Episode\")\n",
        "plt.ylabel(\"Reward\")\n",
        "plt.show()"
      ],
      "metadata": {
        "id": "EAYa7J4l8SEh"
      },
      "execution_count": null,
      "outputs": []
    },
    {
      "cell_type": "code",
      "source": [
        "episodes = [i for i in range(max_episode)]\n",
        "\n",
        "plt.figure(figsize=(10, 15))\n",
        "plt.plot(episodes, episode_rewards)\n",
        "plt.title('Reward per episode')\n",
        "plt.xlabel(\"Episode\")\n",
        "plt.ylabel(\"Reward\")\n",
        "plt.show()"
      ],
      "metadata": {
        "id": "y4K0lfgURpR7"
      },
      "execution_count": null,
      "outputs": []
    }
  ]
}